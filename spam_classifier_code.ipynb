{
 "cells": [
  {
   "cell_type": "code",
   "execution_count": 58,
   "metadata": {},
   "outputs": [
    {
     "name": "stderr",
     "output_type": "stream",
     "text": [
      "[nltk_data] Error loading stopwords: <urlopen error [SSL:\n",
      "[nltk_data]     CERTIFICATE_VERIFY_FAILED] certificate verify failed:\n",
      "[nltk_data]     unable to get local issuer certificate (_ssl.c:992)>\n"
     ]
    },
    {
     "data": {
      "text/plain": [
       "False"
      ]
     },
     "execution_count": 58,
     "metadata": {},
     "output_type": "execute_result"
    }
   ],
   "source": [
    "import glob  # For file path pattern matching\n",
    "import email  # For handling email data\n",
    "from bs4 import BeautifulSoup  # For HTML parsing\n",
    "from concurrent.futures import ThreadPoolExecutor  # For parallel execution\n",
    "\n",
    "import pandas as pd  # For data manipulation and analysis\n",
    "import numpy as np  # For numerical computations\n",
    "import matplotlib.pyplot as plt  # For data visualization\n",
    "import seaborn as sns  # For enhanced data visualization\n",
    "\n",
    "import nltk  # Natural Language Toolkit\n",
    "from nltk.tokenize import sent_tokenize, word_tokenize  # Tokenization\n",
    "from nltk.stem import PorterStemmer, WordNetLemmatizer  # Stemming and lemmatization\n",
    "from nltk.corpus import stopwords  # Stopword removal\n",
    "from nltk.download import punkt, wordnet, stopwords  # Downloading NLTK resources\n",
    "\n",
    "from sklearn.model_selection import train_test_split  # For splitting data into train and test sets\n",
    "from sklearn.feature_extraction.text import CountVectorizer  # For text feature extraction\n",
    "from sklearn.naive_bayes import MultinomialNB  # Naive Bayes classifier\n",
    "from sklearn.svm import SVC  # Support Vector Machine classifier\n",
    "from sklearn.metrics import accuracy_score, classification_report, confusion_matrix  # Model evaluation metrics\n",
    "\n",
    "import tensorflow as tf  # Deep learning framework\n",
    "from tensorflow.keras.layers import LSTM, Dropout, Dense, Embedding  # Layers for building models\n",
    "from tensorflow.keras.models import Sequential  # Sequential model\n",
    "from tensorflow.keras.optimizers import Adam  # Optimization algorithm\n",
    "from tensorflow.keras.callbacks import EarlyStopping  # Early stopping for model training\n",
    "\n",
    "# Download the necessary NLTK resources\n",
    "nltk.download('punkt')  # Tokenization resources\n",
    "nltk.download('wordnet')  # Lemmatization resources\n",
    "nltk.download('stopwords')  # Stopword resources\n"
   ]
  },
  {
   "attachments": {},
   "cell_type": "markdown",
   "metadata": {},
   "source": [
    "## File folder path."
   ]
  },
  {
   "cell_type": "code",
   "execution_count": 2,
   "metadata": {},
   "outputs": [],
   "source": [
    "PATH = 'dataset/'\n",
    "ham_path = PATH + 'ham/'\n",
    "spam_path = PATH + 'spam/'"
   ]
  },
  {
   "attachments": {},
   "cell_type": "markdown",
   "metadata": {},
   "source": [
    "### Parsing email and extracting the payload of the email."
   ]
  },
  {
   "cell_type": "code",
   "execution_count": 3,
   "metadata": {},
   "outputs": [],
   "source": [
    "def parse_email(file_path):\n",
    "    with open(file_path, 'rb') as file:\n",
    "        email_content = file.read()\n",
    "        parsed_email = email.message_from_bytes(email_content)\n",
    "        text_body = None\n",
    "        html_body = None\n",
    "\n",
    "        # Check if the email is multipart\n",
    "        if parsed_email.is_multipart():\n",
    "            # Iterate over email parts\n",
    "            for part in parsed_email.get_payload():\n",
    "                # Extract text/plain data only\n",
    "                if part.get_content_type() == 'text/plain':\n",
    "                    text_body = part.get_payload(decode='utf-8').decode(errors='replace')\n",
    "                elif part.get_content_type() == 'text/html':\n",
    "                    html_body = part.get_payload(decode=True).decode(errors='replace')\n",
    "        \n",
    "            # Prefer text/plain over text/html\n",
    "            email_body = text_body if text_body is not None else html_body\n",
    "            # If email_body is HTML, convert it to plain text\n",
    "            if email_body is not None and html_body is not None:\n",
    "                email_body = BeautifulSoup(email_body, 'html.parser').get_text()\n",
    "        else:\n",
    "            # If not multipart, just extract the payload\n",
    "            email_body = parsed_email.get_payload(decode=True).decode(errors='replace')\n",
    "\n",
    "        email_subject = parsed_email.get('Subject')\n",
    "\n",
    "        # If no body could be extracted, print the file path\n",
    "        if email_body is None:\n",
    "            print(f\"No body could be extracted from email at {file_path}\")\n",
    "\n",
    "        return email_subject, email_body\n"
   ]
  },
  {
   "attachments": {},
   "cell_type": "markdown",
   "metadata": {},
   "source": [
    "### Process the file "
   ]
  },
  {
   "cell_type": "code",
   "execution_count": 4,
   "metadata": {},
   "outputs": [],
   "source": [
    "# Generator function to process the files in the given directory\n",
    "def process_files_gen(directory):\n",
    "    file_paths = glob.glob(directory + '/*')\n",
    "    with ThreadPoolExecutor() as executor:\n",
    "        for result in executor.map(parse_email, file_paths):\n",
    "            yield result\n"
   ]
  },
  {
   "attachments": {},
   "cell_type": "markdown",
   "metadata": {},
   "source": [
    "### Creating the DataFrame "
   ]
  },
  {
   "cell_type": "code",
   "execution_count": 5,
   "metadata": {},
   "outputs": [],
   "source": [
    "\n",
    "# Use the generator to create a DataFrame\n",
    "def create_dataframe(directory, label):\n",
    "    generator = process_files_gen(directory)\n",
    "    df = pd.DataFrame(generator, columns=['Subject','Body']).assign(Category=label)\n",
    "    return df\n",
    "\n"
   ]
  },
  {
   "attachments": {},
   "cell_type": "markdown",
   "metadata": {},
   "source": [
    "# Creating dataframe instances for 'ham' and 'spam'."
   ]
  },
  {
   "cell_type": "code",
   "execution_count": 6,
   "metadata": {},
   "outputs": [
    {
     "name": "stderr",
     "output_type": "stream",
     "text": [
      "/var/folders/1n/4n926d913_94f_hb0lp693200000gn/T/ipykernel_45076/595207459.py:22: MarkupResemblesLocatorWarning: The input looks more like a filename than markup. You may want to open this file and pass the filehandle into Beautiful Soup.\n",
      "  email_body = BeautifulSoup(email_body, 'html.parser').get_text()\n"
     ]
    },
    {
     "name": "stdout",
     "output_type": "stream",
     "text": [
      "No body could be extracted from email at dataset/ham/00240.8623673c2a6f2cde10ab31423f708feb\n",
      "No body could be extracted from email at dataset/ham/00869.0fbb783356f6875063681dc49cfcb1eb\n",
      "No body could be extracted from email at dataset/ham/00150.6757acfba013e1e9b138e2530101c9b8\n",
      "No body could be extracted from email at dataset/ham/1219.c4cc23fc1dcc1809a3dc65c58fc51d65\n",
      "No body could be extracted from email at dataset/ham/01137.862bf0c202b134ec11c965d1a46a43a0\n",
      "No body could be extracted from email at dataset/ham/00720.b32e7900b189a55cf7207e9633f5c437\n",
      "No body could be extracted from email at dataset/spam/00182.5561cb1b6f968e83afabe21d7a28bb37\n",
      "No body could be extracted from email at dataset/spam/00977.6b7587a392363b73c8312b72b4972c24\n",
      "No body could be extracted from email at dataset/spam/01188.67d69a8d6e5c899914556488c8cbd2c9\n",
      "No body could be extracted from email at dataset/spam/00341.99b463b92346291f5848137f4a253966\n"
     ]
    },
    {
     "name": "stderr",
     "output_type": "stream",
     "text": [
      "/var/folders/1n/4n926d913_94f_hb0lp693200000gn/T/ipykernel_45076/595207459.py:22: MarkupResemblesLocatorWarning: The input looks more like a URL than markup. You may want to use an HTTP client like requests to get the document behind the URL, and feed that document to Beautiful Soup.\n",
      "  email_body = BeautifulSoup(email_body, 'html.parser').get_text()\n",
      "/var/folders/1n/4n926d913_94f_hb0lp693200000gn/T/ipykernel_45076/595207459.py:22: MarkupResemblesLocatorWarning: The input looks more like a filename than markup. You may want to open this file and pass the filehandle into Beautiful Soup.\n",
      "  email_body = BeautifulSoup(email_body, 'html.parser').get_text()\n"
     ]
    },
    {
     "name": "stdout",
     "output_type": "stream",
     "text": [
      "No body could be extracted from email at dataset/spam/01317.2fb1c15091162a0a83cb7020e45e8de6\n",
      "No body could be extracted from email at dataset/spam/00398.64f68a9650595170b0e10cc493020a0a\n",
      "No body could be extracted from email at dataset/spam/00239.2f1370f9cba5ab21297eadb2af40b051\n",
      "No body could be extracted from email at dataset/spam/00217.f56a722e95d0b6ea580f1b4e9e2e013a\n",
      "No body could be extracted from email at dataset/spam/00311.9797029f3ee441b00f3b7521e573cb96\n",
      "No body could be extracted from email at dataset/spam/00457.f4325a4aa30dce61bf6c442b887733dd\n",
      "No body could be extracted from email at dataset/spam/00215.0378888fa9823523e61a6b922a4e3b55\n",
      "No body could be extracted from email at dataset/spam/00200.2fcabc2b58baa0ebc051e3ea3dfafd8f\n",
      "No body could be extracted from email at dataset/spam/01306.d37be8871ac501758c6854fbef9cbdd2\n",
      "No body could be extracted from email at dataset/spam/00773.1ef75674804a6206f957afddcb5ed0c1\n",
      "No body could be extracted from email at dataset/spam/01041.1ece6e061e80e648c8156d52decd0610\n",
      "No body could be extracted from email at dataset/spam/01316.80287bffff0da77d7b22a538aefdbd01\n",
      "No body could be extracted from email at dataset/spam/01097.98d732b93866d13b0c13589ae2acc383\n",
      "No body could be extracted from email at dataset/spam/00219.b1e53bdc90b763f8073f3270e3f6e811\n",
      "No body could be extracted from email at dataset/spam/00982.2bd2b529b2df97e4e6c47edc6a272115\n",
      "No body could be extracted from email at dataset/spam/00252.7e355e0c5fd1de609684544262435579\n",
      "No body could be extracted from email at dataset/spam/00209.983df148f8b7d7e5d678f1ea6297cad1\n",
      "No body could be extracted from email at dataset/spam/00216.c07de35b7e7f659e3c0c071b30053afa\n",
      "No body could be extracted from email at dataset/spam/01288.ffe370e3a92a1861533330da51edcb49\n",
      "No body could be extracted from email at dataset/spam/00220.b599bb1ef610ba40d9becc965c0c0da3\n",
      "No body could be extracted from email at dataset/spam/00221.775c9348b935d966a9afec954f1e9c27\n",
      "No body could be extracted from email at dataset/spam/00307.7ed50c6d80c6e37c8cc1b132f4a19e4d\n",
      "No body could be extracted from email at dataset/spam/00293.f4e9fd5549f9063ad5559c094edf08f2\n",
      "No body could be extracted from email at dataset/spam/00224.1b3430b101a8a8b22493c4948fcbe9cc\n",
      "No body could be extracted from email at dataset/spam/00338.a595ffbb6cbcf3a5058293051ebaabf4\n",
      "No body could be extracted from email at dataset/spam/00734.0c1975b8c2b17fd6c665827706f89eaf\n",
      "No body could be extracted from email at dataset/spam/00704.30306e2e506ca198fe8dea2b3c11346a\n",
      "No body could be extracted from email at dataset/spam/00223.b2ab59fb979b4e3d266f15a580d86619\n",
      "No body could be extracted from email at dataset/spam/01262.24bce3d7a8a92bc6d970cf80f0d21660\n",
      "No body could be extracted from email at dataset/spam/00225.a4a58f288601a7e965b358c6e7c6741f\n",
      "No body could be extracted from email at dataset/spam/00222.3ac65af6304056a15115076b1bcc8f69\n",
      "No body could be extracted from email at dataset/spam/00777.284d3dc66b4f1bdedb5a5eba41d18d14\n",
      "No body could be extracted from email at dataset/spam/00975.5e2e7c9d8b2c04929ff41e010163e5e8\n"
     ]
    }
   ],
   "source": [
    "# Create dataframes for both the spam and non-spam emails\n",
    "df_ham = create_dataframe(ham_path, 'ham')\n",
    "df_spam = create_dataframe(spam_path, 'spam')\n",
    "\n",
    "# Concatenate the two dataframes\n",
    "df = pd.concat([df_ham, df_spam])\n",
    "\n",
    "# Shuffle the dataframe\n",
    "df = df.sample(frac=1).reset_index(drop=True)\n"
   ]
  },
  {
   "attachments": {},
   "cell_type": "markdown",
   "metadata": {},
   "source": [
    "## Basic EDA and Text pre-processing."
   ]
  },
  {
   "cell_type": "code",
   "execution_count": 7,
   "metadata": {},
   "outputs": [
    {
     "data": {
      "text/html": [
       "<div>\n",
       "<style scoped>\n",
       "    .dataframe tbody tr th:only-of-type {\n",
       "        vertical-align: middle;\n",
       "    }\n",
       "\n",
       "    .dataframe tbody tr th {\n",
       "        vertical-align: top;\n",
       "    }\n",
       "\n",
       "    .dataframe thead th {\n",
       "        text-align: right;\n",
       "    }\n",
       "</style>\n",
       "<table border=\"1\" class=\"dataframe\">\n",
       "  <thead>\n",
       "    <tr style=\"text-align: right;\">\n",
       "      <th></th>\n",
       "      <th>Subject</th>\n",
       "      <th>Body</th>\n",
       "      <th>Category</th>\n",
       "    </tr>\n",
       "  </thead>\n",
       "  <tbody>\n",
       "    <tr>\n",
       "      <th>0</th>\n",
       "      <td>Re: Nessus?</td>\n",
       "      <td>On Mon, Oct 07, 2002 at 11:05:21PM +0200, Matt...</td>\n",
       "      <td>ham</td>\n",
       "    </tr>\n",
       "    <tr>\n",
       "      <th>1</th>\n",
       "      <td>work from home. free info</td>\n",
       "      <td>WE NEED HELP.  We are a 14 year old fortune 50...</td>\n",
       "      <td>spam</td>\n",
       "    </tr>\n",
       "    <tr>\n",
       "      <th>2</th>\n",
       "      <td>Benjamin Wallace Higgins</td>\n",
       "      <td>\\nAt 12:45 am Benjamin Wallace Higgins made a ...</td>\n",
       "      <td>ham</td>\n",
       "    </tr>\n",
       "    <tr>\n",
       "      <th>3</th>\n",
       "      <td>Re: [Baseline] Raising chickens the high-tech way</td>\n",
       "      <td>Dave Long &lt;dl@silcom.com&gt; writes:\\n\\n&gt; &gt; It al...</td>\n",
       "      <td>ham</td>\n",
       "    </tr>\n",
       "    <tr>\n",
       "      <th>4</th>\n",
       "      <td>[zzzzteana] Plumstead Panther - Pictures!</td>\n",
       "      <td>Looks and sounds a hell of a lot like Clare's ...</td>\n",
       "      <td>ham</td>\n",
       "    </tr>\n",
       "  </tbody>\n",
       "</table>\n",
       "</div>"
      ],
      "text/plain": [
       "                                             Subject  \\\n",
       "0                                        Re: Nessus?   \n",
       "1                          work from home. free info   \n",
       "2                           Benjamin Wallace Higgins   \n",
       "3  Re: [Baseline] Raising chickens the high-tech way   \n",
       "4          [zzzzteana] Plumstead Panther - Pictures!   \n",
       "\n",
       "                                                Body Category  \n",
       "0  On Mon, Oct 07, 2002 at 11:05:21PM +0200, Matt...      ham  \n",
       "1  WE NEED HELP.  We are a 14 year old fortune 50...     spam  \n",
       "2  \\nAt 12:45 am Benjamin Wallace Higgins made a ...      ham  \n",
       "3  Dave Long <dl@silcom.com> writes:\\n\\n> > It al...      ham  \n",
       "4  Looks and sounds a hell of a lot like Clare's ...      ham  "
      ]
     },
     "execution_count": 7,
     "metadata": {},
     "output_type": "execute_result"
    }
   ],
   "source": [
    "# cheking the dataset.\n",
    "df.head()"
   ]
  },
  {
   "cell_type": "code",
   "execution_count": 8,
   "metadata": {},
   "outputs": [
    {
     "data": {
      "text/plain": [
       "(8597, 3)"
      ]
     },
     "execution_count": 8,
     "metadata": {},
     "output_type": "execute_result"
    }
   ],
   "source": [
    "df.shape"
   ]
  },
  {
   "cell_type": "code",
   "execution_count": 9,
   "metadata": {},
   "outputs": [
    {
     "data": {
      "text/plain": [
       "Subject      6\n",
       "Body        43\n",
       "Category     0\n",
       "dtype: int64"
      ]
     },
     "execution_count": 9,
     "metadata": {},
     "output_type": "execute_result"
    }
   ],
   "source": [
    "df.isnull().sum()\n"
   ]
  },
  {
   "cell_type": "code",
   "execution_count": null,
   "metadata": {},
   "outputs": [],
   "source": []
  },
  {
   "cell_type": "code",
   "execution_count": 10,
   "metadata": {},
   "outputs": [
    {
     "data": {
      "text/plain": [
       "Subject     0\n",
       "Body        0\n",
       "Category    0\n",
       "dtype: int64"
      ]
     },
     "execution_count": 10,
     "metadata": {},
     "output_type": "execute_result"
    }
   ],
   "source": [
    "df = df.dropna()\n",
    "df.isnull().sum()"
   ]
  },
  {
   "cell_type": "code",
   "execution_count": 11,
   "metadata": {},
   "outputs": [
    {
     "data": {
      "text/html": [
       "<div>\n",
       "<style scoped>\n",
       "    .dataframe tbody tr th:only-of-type {\n",
       "        vertical-align: middle;\n",
       "    }\n",
       "\n",
       "    .dataframe tbody tr th {\n",
       "        vertical-align: top;\n",
       "    }\n",
       "\n",
       "    .dataframe thead tr th {\n",
       "        text-align: left;\n",
       "    }\n",
       "\n",
       "    .dataframe thead tr:last-of-type th {\n",
       "        text-align: right;\n",
       "    }\n",
       "</style>\n",
       "<table border=\"1\" class=\"dataframe\">\n",
       "  <thead>\n",
       "    <tr>\n",
       "      <th></th>\n",
       "      <th colspan=\"4\" halign=\"left\">Subject</th>\n",
       "      <th colspan=\"4\" halign=\"left\">Body</th>\n",
       "    </tr>\n",
       "    <tr>\n",
       "      <th></th>\n",
       "      <th>count</th>\n",
       "      <th>unique</th>\n",
       "      <th>top</th>\n",
       "      <th>freq</th>\n",
       "      <th>count</th>\n",
       "      <th>unique</th>\n",
       "      <th>top</th>\n",
       "      <th>freq</th>\n",
       "    </tr>\n",
       "    <tr>\n",
       "      <th>Category</th>\n",
       "      <th></th>\n",
       "      <th></th>\n",
       "      <th></th>\n",
       "      <th></th>\n",
       "      <th></th>\n",
       "      <th></th>\n",
       "      <th></th>\n",
       "      <th></th>\n",
       "    </tr>\n",
       "  </thead>\n",
       "  <tbody>\n",
       "    <tr>\n",
       "      <th>ham</th>\n",
       "      <td>6689</td>\n",
       "      <td>2629</td>\n",
       "      <td>[Spambayes] Deployment</td>\n",
       "      <td>54</td>\n",
       "      <td>6689</td>\n",
       "      <td>4178</td>\n",
       "      <td>E-mail error\\n\\nYou're subscribed to the HTML ...</td>\n",
       "      <td>9</td>\n",
       "    </tr>\n",
       "    <tr>\n",
       "      <th>spam</th>\n",
       "      <td>1859</td>\n",
       "      <td>1658</td>\n",
       "      <td></td>\n",
       "      <td>12</td>\n",
       "      <td>1859</td>\n",
       "      <td>1710</td>\n",
       "      <td>\\nHello I am your hot lil horny toy.\\n    I am...</td>\n",
       "      <td>7</td>\n",
       "    </tr>\n",
       "  </tbody>\n",
       "</table>\n",
       "</div>"
      ],
      "text/plain": [
       "         Subject                                      Body         \\\n",
       "           count unique                     top freq count unique   \n",
       "Category                                                            \n",
       "ham         6689   2629  [Spambayes] Deployment   54  6689   4178   \n",
       "spam        1859   1658                           12  1859   1710   \n",
       "\n",
       "                                                                  \n",
       "                                                        top freq  \n",
       "Category                                                          \n",
       "ham       E-mail error\\n\\nYou're subscribed to the HTML ...    9  \n",
       "spam      \\nHello I am your hot lil horny toy.\\n    I am...    7  "
      ]
     },
     "execution_count": 11,
     "metadata": {},
     "output_type": "execute_result"
    }
   ],
   "source": [
    "df.groupby('Category').describe()"
   ]
  },
  {
   "cell_type": "code",
   "execution_count": 12,
   "metadata": {},
   "outputs": [
    {
     "data": {
      "image/png": "[encoded data removed]",
      "text/plain": [
       "<Figure size 640x480 with 1 Axes>"
      ]
     },
     "metadata": {},
     "output_type": "display_data"
    }
   ],
   "source": [
    "# checking the distribution of the dataset.\n",
    "labels = [\"Ham\", \"Spam\"]\n",
    "sizes = df[\"Category\"].value_counts()\n",
    "colors = [\"#800080\", \"#FFD700\"]  # Purple and Gold\n",
    "\n",
    "\n",
    "plt.bar(labels, sizes, color=colors)\n",
    "\n",
    "# Add annotations to the bars\n",
    "for i, size in enumerate(sizes):\n",
    "    plt.text(i, size, str(size), ha='center', va='bottom')\n",
    "\n",
    "plt.xlabel(\"Category\")\n",
    "plt.ylabel(\"Count\")\n",
    "plt.title(\"Email Category Distribution\")\n",
    "plt.show()\n"
   ]
  },
  {
   "attachments": {},
   "cell_type": "markdown",
   "metadata": {},
   "source": [
    "### Observation:\n",
    " -  The number of Ham and Spam emails has significant difference\n",
    " -  The dataset is imbalanced.\n",
    " -  So for next step we will be balancing the dataset."
   ]
  },
  {
   "attachments": {},
   "cell_type": "markdown",
   "metadata": {},
   "source": [
    "### Changing the categorical labels into binary values."
   ]
  },
  {
   "cell_type": "code",
   "execution_count": 13,
   "metadata": {},
   "outputs": [],
   "source": [
    "df['is_spam'] = df['Category'].apply(lambda x: 1 if x == 'spam' else 0)"
   ]
  },
  {
   "attachments": {},
   "cell_type": "markdown",
   "metadata": {},
   "source": [
    "### Balancing the dataset."
   ]
  },
  {
   "cell_type": "code",
   "execution_count": 14,
   "metadata": {},
   "outputs": [
    {
     "data": {
      "text/plain": [
       "(                                                Subject  \\\n",
       " 9                                        Latina Teens!!   \n",
       " 188   [ILUG] WE NEED YOUR ASSISTANCE TO INVEST IN YO...   \n",
       " 2352                                     Re: Wifi query   \n",
       " 2872   Is Your Mortgage Payment Too High? Reduce It Now   \n",
       " 146                         [IIU] spyware calling home?   \n",
       " \n",
       "                                                    Body Category  is_spam  \n",
       " 9     <html>\\n<body>\\n<p>See These Sweet Latina Hone...     spam        1  \n",
       " 188   Dear Sir/Madam,\\n\\nI am well confident of your...     spam        1  \n",
       " 2352  802.11b - 11Mbps per channel over three channe...      ham        0  \n",
       " 2872  <!-- saved from url=(0022)http://internet.e-ma...     spam        1  \n",
       " 146   Hello all\\nI'm looking for advice. My pc has d...      ham        0  ,\n",
       " (3718, 4))"
      ]
     },
     "execution_count": 14,
     "metadata": {},
     "output_type": "execute_result"
    }
   ],
   "source": [
    "# Filter the DataFrame for 'spam' and 'ham' samples\n",
    "ham_samples = df[df['Category'] == 'ham']\n",
    "spam_samples = df[df['Category'] == 'spam']\n",
    "\n",
    "# Determine the minimum sample size\n",
    "sample_size = min(len(ham_samples), len(spam_samples))\n",
    "\n",
    "# Randomly sample equal number of 'spam' and 'ham' samples\n",
    "ham_samples = ham_samples.sample(n=sample_size, random_state=42)\n",
    "spam_samples = spam_samples.sample(n=sample_size, random_state=42)\n",
    "\n",
    "# Concatenate the samples\n",
    "df = pd.concat([ham_samples, spam_samples], ignore_index=True)\n",
    "\n",
    "# Shuffle the data\n",
    "df = df.sample(frac=1, random_state=42).reset_index(drop=True)\n",
    "\n",
    "# View samples\n",
    "df.sample(5), df.shape\n"
   ]
  },
  {
   "attachments": {},
   "cell_type": "markdown",
   "metadata": {},
   "source": [
    "### Email category distribution after undersampling."
   ]
  },
  {
   "cell_type": "code",
   "execution_count": 15,
   "metadata": {},
   "outputs": [
    {
     "data": {
      "image/png": "[encoded data removed]",
      "text/plain": [
       "<Figure size 640x480 with 1 Axes>"
      ]
     },
     "metadata": {},
     "output_type": "display_data"
    }
   ],
   "source": [
    "labels = [\"Ham\", \"Spam\"]\n",
    "sizes = df[\"Category\"].value_counts()\n",
    "colors = [\"#800080\", \"#FFD700\"]  # Purple and Gold\n",
    "\n",
    "plt.bar(labels, sizes, color=colors)\n",
    "\n",
    "# Add annotations to the bars\n",
    "for i, size in enumerate(sizes):\n",
    "    plt.text(i, size, str(size), ha='center', va='bottom')\n",
    "\n",
    "plt.xlabel(\"Category\")\n",
    "plt.ylabel(\"Count\")\n",
    "plt.title(\"Email Category Distribution\")\n",
    "plt.show()"
   ]
  },
  {
   "attachments": {},
   "cell_type": "markdown",
   "metadata": {},
   "source": [
    "### The following email wrapper function is to check the texts after each text preprocessing to see the changes."
   ]
  },
  {
   "cell_type": "code",
   "execution_count": 16,
   "metadata": {},
   "outputs": [],
   "source": [
    "\n",
    "def print_random_wrapped_emails(df, body, subject, num_samples=3):\n",
    "    \"\"\"\n",
    "    Prints wrapped content of randomly selected email samples from a DataFrame\n",
    "    along with their labels and a count.\n",
    "    \n",
    "    @df: DataFrame containing email samples\n",
    "    @num_samples: number of samples to print (default is 5)\n",
    "    \"\"\"\n",
    "    random_indices = random.sample(range(len(df)), num_samples)\n",
    "    for i, index in enumerate(random_indices, 1):\n",
    "        email_body_sample = df[body].iloc[index]\n",
    "        email_subject_sample = df[subject].iloc[index]\n",
    "        label = df['Category'].iloc[index]\n",
    "        wrapped_email = textwrap.fill(f'Subject : {email_subject_sample}, Body: {email_body_sample}')\n",
    "        print(f\"Sample {i}:\")\n",
    "        print(f\"Label: {label}\")\n",
    "        print(f\"Count: {index+1}\")\n",
    "        print(wrapped_email)\n",
    "        print('-+' * 50)  # Print separator between email samples"
   ]
  },
  {
   "cell_type": "code",
   "execution_count": 17,
   "metadata": {},
   "outputs": [
    {
     "name": "stdout",
     "output_type": "stream",
     "text": [
      "Sample 1:\n",
      "Label: ham\n",
      "Count: 2108\n",
      "Subject : Re: [SAdev] SpamAssassin v2.40 released (finally)!, Body: On\n",
      "Mon, Sep 02, 2002 at 06:53:24PM +0100, Justin Mason wrote: >   - Razor\n",
      "v2 now supported fully  <grrr>  Who changed my code?    Dns.pm and\n",
      "Reporter.pm WRT Razor have pointers to $Mail::SpamAssassin::DEBUG,\n",
      "whereas it should be $Mail::SpamAssassin::DEBUG->{enabled}...  I'll be\n",
      "submitting a bug/patch for this shortly.  --  Randomly Generated\n",
      "Tagline: MA Driving #2: Everything is under construction.\n",
      "-+-+-+-+-+-+-+-+-+-+-+-+-+-+-+-+-+-+-+-+-+-+-+-+-+-+-+-+-+-+-+-+-+-+-+-+-+-+-+-+-+-+-+-+-+-+-+-+-+-+\n",
      "Sample 2:\n",
      "Label: ham\n",
      "Count: 1890\n",
      "Subject : Re: JPEGs patented, Body: Wayne E Baisley wrote: > There's\n",
      "nothing you can know that isn't known. > Nothing you can see that\n",
      "isn't shown. > Nowhere you can be that isn't where you're meant to be.\n",
      "> It's easy. > All you need is HTML.  Are you quoting the Beatles\n",
      "version or the Laibach version?  - Joe :-)\n",
      "http://xent.com/mailman/listinfo/fork\n",
      "-+-+-+-+-+-+-+-+-+-+-+-+-+-+-+-+-+-+-+-+-+-+-+-+-+-+-+-+-+-+-+-+-+-+-+-+-+-+-+-+-+-+-+-+-+-+-+-+-+-+\n",
      "Sample 3:\n",
      "Label: spam\n",
      "Count: 2814\n",
      "Subject : yyyy,Do You Know the HGH Differences ?, Body: <html> <body\n",
      "bgColor=\"#CCCCCC\" topmargin=1 onMouseOver=\"window.status=''; return\n",
      "true\" oncontextmenu=\"return false\" ondragstart=\"return false\"\n",
      "onselectstart=\"return false\"> Hello, jm@neteze.com<BR> <BR> As se<!--\n",
      "5-->en on NB<!--D-->C, CBS, and CN<!--H-->N, and even Opr<!--D-->ah!\n",
      "The health<br> discove<!--F-->ry that actually revers<!--D-->es aging\n",
      "while burning fat,<br> with<!--boy-->out dieti<!--D-->ng or exerc<!--\n",
      "F-->ise!  This pro<!--A-->ven discovery has even<br> been report<!--\n",
      "jm-->ed on by the Ne<!--test-->w Engl<!---->and Jour<!--F-->nal of\n",
      "Medi<!--F-->cine.<br> For<!--jm-->get aging and d<!---->ieting\n",
      "forever!  And it's Gua<!--S-->ranteed!<br> <br><br> * Red<!--lo-->uce\n",
      "body fat and build lean muscle WIT<!--jm-->HOUT EXERCISE!<br> * Enha<!\n",
      "--jm-->ce se<!--la-->xual perf<!--hehe-->ormance<br> * Rem<!--jm-->ove\n",
      "wrinkles and cellulite<br> * Lower blood pres<!--jm-->sure and improve\n",
      "choles<!---->terol profile<br> * Imp<!--jm-->rove sleep, vision and\n",
      "me<!---->mory<br> * Resto<!--jm-->re hair color and gro<!---->wth<br>\n",
      "* Stren<!--jm-->gthen the immune sys<!---->tem<br> * Incre<!--jm-->ase\n",
      "ener<!---->gy and card<!---->iac output<br> * Turn bac<!--jm-->k your\n",
      "body's biol<!---->ogical time cl<!---->ock 10-20 years<br> in 6 months\n",
      "of usage !!!<br><br> <a\n",
      "href=\"http://211.99.37.206:81/ultimatehgh_zeng/\">FOR FRE<!--o-->E\n",
      "INFO<!--you-->RMATION AND G<!--love-->ET FREE  1 MON<!--jm-->TH SUPPLY\n",
      "OF HG<!---->H CLICK HERE</a><br><BR><br><BR><br><BR><br><BR><br><BR><b\n",
      "r><BR><br><BR><br><BR> You are recei<!--jm-->ving this email as a\n",
      "subscr<!---->iber<br> to the Opt<!--jm-->-In Ameri<!---->ca\n",
      "Mailin<!---->g Lis<!---->t. <br> To remo<!--jm-->ve your<!---->self\n",
      "from all related mailli<!--me-->sts,<br> just <a href=\"http://211.99.3\n",
      "7.206:81/ultimatehgh_zeng/remove.php?userid=jm@neteze.com\">  Click\n",
      "Here</a> </body> </html>\n",
      "-+-+-+-+-+-+-+-+-+-+-+-+-+-+-+-+-+-+-+-+-+-+-+-+-+-+-+-+-+-+-+-+-+-+-+-+-+-+-+-+-+-+-+-+-+-+-+-+-+-+\n",
      "Sample 4:\n",
      "Label: spam\n",
      "Count: 3474\n",
      "Subject : ADV: Interest rates slashed! Don't wait!\n",
      "dnjwn, Body: INTEREST RATES HAVE JUST BEEN CUT!!!     NOW is the\n",
      "perfect time to think about refinancing your home mortgage! Rates are\n",
      "down! Take a minute and fill out our quick online form.\n",
      "http://www.takemetothesavings.com/refi/           Easy qualifying,\n",
      "prompt, courteous service, low rates! Don't wait for interest rates to\n",
      "go up again, lock in YOUR low rate now!\n",
      "---------------------------------------  To unsubscribe, go to:\n",
      "http://www.takemetothesavings.com/stopthemailplease/  Please allow\n",
      "48-72 hours for removal.\n",
      "-+-+-+-+-+-+-+-+-+-+-+-+-+-+-+-+-+-+-+-+-+-+-+-+-+-+-+-+-+-+-+-+-+-+-+-+-+-+-+-+-+-+-+-+-+-+-+-+-+-+\n"
     ]
    }
   ],
   "source": [
    "print_random_wrapped_emails(df,'Body' , 'Subject',num_samples=4)"
   ]
  },
  {
   "attachments": {},
   "cell_type": "markdown",
   "metadata": {},
   "source": [
    "### Observations:\n",
    "- We can see lot of HTML Tags, Special Characters and Hyperlinks URLS\n",
    "- Next step, we will be removing and normalizing the text data."
   ]
  },
  {
   "cell_type": "code",
   "execution_count": 18,
   "metadata": {},
   "outputs": [
    {
     "data": {
      "text/plain": [
       "(                                             Subject  \\\n",
       " 0         Re: [SAtalk] Removing SPAM: from SA notice   \n",
       " 1                                   Funds Investment   \n",
       " 2                                  Re: Your VIP Pass   \n",
       " 3        Something for the person who has everything   \n",
       " 4  [WM] ADV:  Direct email blaster, email address...   \n",
       " \n",
       "                                                 Body Category  is_spam  \n",
       " 0  \\n\"Christopher Crowley\" said:\\n\\n> That says t...      ham        0  \n",
       " 1  SENIOR ADVOCATE OF NIGERIA \\nBARR. WILLIAMS FA...     spam        1  \n",
       " 2  ###################################\\n\\n  FREE ...     spam        1  \n",
       " 3  \\nInteresting ebay item......(and no it wasnt ...      ham        0  \n",
       " 4  <BODY bgColor=#ffffff>\\n<DIV><FONT face=&#2343...     spam        1  ,\n",
       " \"I hope you all don't mind me creating a new thread and adding a Cc: to\\nspamassassin-devel.  I want to make sure everyone reads Craig's email.\\n(I don't really have any comments other than to endorse it and suggest\\ncreating a branch ASAP.)\\n\\nCraig R.Hughes <craig@deersoft.com> writes:\\n\\n> Ok folks...  I think there's been some confusion, so I recommend \\n> the following:\\n> \\n> 1. Use the CVS tag spamassassin_pre_2_4_0 which I just created \\n> to generate your mass-checks\\n> 2. Submit the results via rsync in the usual way ASAP\\n> 3. Justin and I will cooperate on running the GA sometime around \\n> midnight PST (GMT-0800) on thursday/friday\\n> \\n> Any good data that's in the rsync corpus by that time will be \\n> used to feed the GA.  That will give everyone about 48 hours \\n> from now to generate the logs and submit them, plus it'll give \\n> Justin and me about 48 hours to tinker with the GA (and \\n> hopefully get it compiling again on my machine grumble \\n> grumble).  That should then yield a 2.40 release sometime on \\n> friday, possibly saturday if we need to do multiple GA runs to \\n> tweak things properly.\\n> \\n> C\\n> \\n> PS Volunteering Justin here, since I suspect he's probably fast \\n> asleep right now.\\n\\n\")"
      ]
     },
     "execution_count": 18,
     "metadata": {},
     "output_type": "execute_result"
    }
   ],
   "source": [
    "df.head(), df.Body[10]"
   ]
  },
  {
   "attachments": {},
   "cell_type": "markdown",
   "metadata": {},
   "source": [
    "### Observing two different URLs patterns.\n",
    "- We will be droo"
   ]
  },
  {
   "cell_type": "code",
   "execution_count": 19,
   "metadata": {},
   "outputs": [
    {
     "name": "stdout",
     "output_type": "stream",
     "text": [
      "15029\n"
     ]
    }
   ],
   "source": [
    "\n",
    "#checking the counts of ulrs in the dataset.\n",
    "urls = []\n",
    "\n",
    "for body in df['Body']:\n",
    "    matches = re.findall(r'(http|https)://[^\\s]*', str(body), flags=re.IGNORECASE)\n",
    "    urls.extend(matches)\n",
    "\n",
    "print(len(urls))\n"
   ]
  },
  {
   "cell_type": "code",
   "execution_count": 20,
   "metadata": {},
   "outputs": [
    {
     "name": "stdout",
     "output_type": "stream",
     "text": [
      "7834\n"
     ]
    }
   ],
   "source": [
    "\n",
    "#checking the counts of ulrs starting with wwwin the dataset.\n",
    "urls = []\n",
    "\n",
    "for body in df['Body']:\n",
    "    matches = re.findall(r'www\\.[^\\s]*', str(body))\n",
    "    urls.extend(matches)\n",
    "\n",
    "print(len(urls))\n"
   ]
  },
  {
   "attachments": {},
   "cell_type": "markdown",
   "metadata": {},
   "source": [
    "### Text - Preprocessing."
   ]
  },
  {
   "cell_type": "code",
   "execution_count": 21,
   "metadata": {},
   "outputs": [
    {
     "name": "stderr",
     "output_type": "stream",
     "text": [
      "[nltk_data] Error loading punkt: <urlopen error [SSL:\n",
      "[nltk_data]     CERTIFICATE_VERIFY_FAILED] certificate verify failed:\n",
      "[nltk_data]     unable to get local issuer certificate (_ssl.c:992)>\n"
     ]
    }
   ],
   "source": [
    "\n",
    "def process_email(content) :\n",
    "    '''\n",
    "    preprocesses the content of an email \n",
    "    \n",
    "    and returns a dictionary with word as key and its frequency as value\n",
    "    @content : email content (a string)\n",
    "    @return : a counting dictionary \n",
    "    '''                                         \n",
    "    if not isinstance(content,str) :       \n",
    "        return {},''\n",
    "    content = re.sub(r'<[^<>]+>', ' ',content)  ##strip all HTML\n",
    "    content = str.lower(content) ##lower case\n",
    "    #handle URLS with http:// or https://\n",
    "    content = re.sub(r'(http|https)://[^\\s]*','httpaddr ',content) \n",
    "    content = re.sub(r'www\\.[^\\s]*','httpaddr ',content) #handle URLS with www.\n",
    "    #handle email addresses\n",
    "    #look for strings with @ in the middle\n",
    "    content = re.sub(r'[^\\s]+@[^\\s]+','emailaddr',content)\n",
    "    content = re.sub(r'[0-9]+', 'number ',content) #handle numbers\n",
    "    content = re.sub(r'[$]+','dollar ',content) #handle $ sign \n",
    "    content = re.sub(r'[\\n]+',' ',content) #remove \\n\n",
    "    content = re.sub(r'[{0}]'.format(string.punctuation),' ',content) \n",
    "\n",
    "    return content"
   ]
  },
  {
   "cell_type": "code",
   "execution_count": 22,
   "metadata": {},
   "outputs": [],
   "source": [
    "df['clean_subject'] = df['Subject'].apply(process_email).to_numpy()"
   ]
  },
  {
   "cell_type": "code",
   "execution_count": 23,
   "metadata": {},
   "outputs": [],
   "source": [
    "df['clean_body'] = df['Body'].apply(process_email).to_numpy()"
   ]
  },
  {
   "cell_type": "code",
   "execution_count": 24,
   "metadata": {},
   "outputs": [
    {
     "data": {
      "text/plain": [
       "(                                             Subject  \\\n",
       " 0         Re: [SAtalk] Removing SPAM: from SA notice   \n",
       " 1                                   Funds Investment   \n",
       " 2                                  Re: Your VIP Pass   \n",
       " 3        Something for the person who has everything   \n",
       " 4  [WM] ADV:  Direct email blaster, email address...   \n",
       " \n",
       "                                                 Body Category  is_spam  \\\n",
       " 0  \\n\"Christopher Crowley\" said:\\n\\n> That says t...      ham        0   \n",
       " 1  SENIOR ADVOCATE OF NIGERIA \\nBARR. WILLIAMS FA...     spam        1   \n",
       " 2  ###################################\\n\\n  FREE ...     spam        1   \n",
       " 3  \\nInteresting ebay item......(and no it wasnt ...      ham        0   \n",
       " 4  <BODY bgColor=#ffffff>\\n<DIV><FONT face=&#2343...     spam        1   \n",
       " \n",
       "                                        clean_subject  \\\n",
       " 0         re   satalk  removing spam  from sa notice   \n",
       " 1                                   funds investment   \n",
       " 2                                  re  your vip pass   \n",
       " 3        something for the person who has everything   \n",
       " 4   wm  adv   direct email blaster  email address...   \n",
       " \n",
       "                                           clean_body  \n",
       " 0    christopher crowley  said    that says that ...  \n",
       " 1  senior advocate of nigeria  barr  williams fal...  \n",
       " 2                                        free adu...  \n",
       " 3   interesting ebay item       and no it wasnt m...  \n",
       " 4          direct email  blaster           the pr...  ,\n",
       " (3718, 6))"
      ]
     },
     "execution_count": 24,
     "metadata": {},
     "output_type": "execute_result"
    }
   ],
   "source": [
    "df.head(5), df.shape"
   ]
  },
  {
   "cell_type": "code",
   "execution_count": 25,
   "metadata": {},
   "outputs": [
    {
     "name": "stdout",
     "output_type": "stream",
     "text": [
      "Sample 1:\n",
      "Label: ham\n",
      "Count: 2621\n",
      "Subject :  spambayes  test sets , Body:     but it also identified as\n",
      "spam everything in my inbox that had any     mime structure or html\n",
      "parts  and several messages in my saved  zope     geeks  list that\n",
      "happened to be using mime and or html       do you know why   the\n",
      "strangest implied claim there is that it hates mime   independent of\n",
      "html   for example  the spamprob of  content type text plain    in\n",
      "that pickle is under number  number     content type multipart\n",
      "alternative  gets   number  number   but that s not a killer clue  and\n",
      "one bit of good content will more   than cancel it out  i reran the\n",
      "experiment  with the new spamhamnumber  pik  but it doesn t seem to\n",
      "make a difference    here are the clues for the two spams in my inbox\n",
      "in hammie py s output format  which sorts the clues by probability\n",
      "the first two numbers are the message number and overall probability\n",
      "then line folded       number  number  number  s  facility   number\n",
      "number    speaker   number  number    stretch   number  number\n",
      "thursday   number  number    young    number  number    mistakes\n",
      "number  number    growth       number  number     content type text\n",
      "plain   number  number    please   number  number    capital\n",
      "number  number    series   number  number    subject don   number\n",
      "number    companies   number  number         content type text html\n",
      "number  number    fee   number  number    money   number  number\n",
      "number  number am   number  number    number  number am   number\n",
      "number     content type image gif   number  number         content\n",
      "type multipart alternative   number  number    attend   number  number\n",
      "companies    number  number    content type type multipart alternative\n",
      "number  number    content type multipart related   number  number\n",
      "economy   number  number        economy    number  number  this has\n",
      "number  content types as spam clues  only one of which is related to\n",
      "html  despite there being an html alternative  and number  other spam\n",
      "clues  vs  only number  ham clues    this was an announcement of a\n",
      "public event by our building owners  with a text part that was the\n",
      "same as the html  afaict    its language may be spammish  but the\n",
      "content type clues didn t help    btw  it makes me wonder about the\n",
      "wisdom of keeping punctuation     economy  and  economy   to me don t\n",
      "seem to deserve two be counted as clues       number  number  number\n",
      "s   near   number  number    alexandria   number  number    conn\n",
      "number  number        from adam   number  number    from email addr\n",
      "panix   number  number    poked   number  number        thorugh\n",
      "number  number    though   number  number    i m   number  number\n",
      "reflect   number  number        i ve   number  number    wednesday\n",
      "number  number    content disposition inline       number  number\n",
      "contacting   number  number    sold   number  number    financially\n",
      "number  number        prices   number  number    rates   number\n",
      "number    discount    number  number    hotel   number  number\n",
      "hotels   number  number    hotels    number  number    nights\n",
      "number  number    plaza   number  number        rates    number\n",
      "number    rates    number  number    rooms   number  number    season\n",
      "number  number        stations   number  number    subject hotel\n",
      "number  number  here is the full message  received  headers stripped\n",
      "with apologies to ziggy and david      date  fri  number  sep number\n",
      "number  number  number   number  from  adam turoff   subject  hotel\n",
      "information to  emailaddr emailaddr message id    mime version  number\n",
      "number  content type  text plain  charset us ascii content disposition\n",
      "inline user agent  mutt number  number i i ve been looking into hotels\n",
      "i poked around expedia for availability from march number  to number\n",
      "number  nights  wednesday thorugh saturday     i ve also started\n",
      "contacting hotels for group rates  some of the group rates are no\n",
      "better than the regular rates  and they require signing a contract\n",
      "with a minimum number of rooms sold  with someone financially\n",
      "responsible for unbooked rooms    most hotels are less than responsive\n",
      "radission   barcelo hotel  dupont circle        dollar number  night\n",
      "dollar number  weekend    state plaza hotel  foggy bottom  near gwu\n",
      "dollar number  night  dollar number  weekend    hilton silver spring\n",
      "near metro  in suburban md        dollar number  hight  dollar number\n",
      "weekend    windsor park hotel      conn ave  between dupont circle\n",
      "woodley park metro stations     dollar number  night  needs a car\n",
      "econo lodge alexandria  near metro  in suburban va      dollar number\n",
      "night this is a hand picked list  i ignored anything over dollar\n",
      "number  night  even though there are some really well situated hotels\n",
      "nearby at higher rates  also  i m not sure how much these prices\n",
      "reflect an expedia only discount   i can t vouch for any of these\n",
      "hotels  either  i also found out that the down season for dc hotels\n",
      "are mid june through mid september  and mid november through mid\n",
      "january  z      this one has no mime structure nor html   it even has\n",
      "a content disposition which is counted as a non spam clue   it got f p\n",
      "ed because of the many hospitality related and money related terms   i\n",
      "m surprised dollar number  night and similar aren t clues too    and\n",
      "again  several spam clues are duplicated with different variations\n",
      "hotel    hotels    hotels     subject hotel    rates     rates\n",
      "wrt hating html  possibilities include       number   it really had to\n",
      "do with something other than mime html       number   these are pure\n",
      "html  not multipart alternative with a text plain part        so that\n",
      "the tags aren t getting stripped   the pickled classifier\n",
      "despises all hints of html due to its c l py heritage       number\n",
      "these are multipart alternative with a text plain part  but the\n",
      "latter doesn t contain the same text as the text html part  for\n",
      "example  as anthony reported  perhaps the text plain part just\n",
      "says something like  this is an hmtl message          if it s  number\n",
      "it would be easy to add an optional bool argument to tokenize\n",
      "meaning  even if it is pure html  strip the tags anyway    in fact  i\n",
      "d like   to do that and default it to true   the extreme hatred of\n",
      "html on tech lists   strikes me as  umm  extreme    i also looked in\n",
      "more detail at some f p s in my geeks traffic   the first one s a\n",
      "doozie  that s the term  right        it has lots of html clues that\n",
      "are apparently ignored   it was a multipart mixed with two parts  a\n",
      "brief text plain part containing one or two sentences  a mondo weird\n",
      "url  httpaddr  and some employer generated spammish boilerplate  the\n",
      "second part was the html taken directly from the above url   clues\n",
      "number  number  number  s   main    number  number     later   number\n",
      "number     lots   number  number      paul       number  number\n",
      "number  number    number  number    adopt   number  number    apps\n",
      "number  number    commands       number  number    deja com   number\n",
      "number    dejanews    number  number    discipline   number  number\n",
      "duct   number  number    email addr digicool   number  number    email\n",
      "name paul       number  number    everitt   number  number    exist\n",
      "number  number    forwards   number  number        framework   number\n",
      "number    from email addr digicool   number  number    from email\n",
      "name  number  number    number  number    http number  number\n",
      "number  number        http number  number    number  number    http\n",
      "number  an   number  number    http number  author   number  number\n",
      "http number  fmt   number  number    http number  getdoc   number\n",
      "number    http number  pr   number  number        http number\n",
      "products   number  number    http number  query   number  number\n",
      "http number  search       number  number    http number  viewthread\n",
      "number  number    http number  xp   number  number    http number\n",
      "zope       number  number    inventing   number  number    jsp\n",
      "number  number    jsp    number  number    logic   number  number\n",
      "maps   number  number    neo   number  number    newsgroup    number\n",
      "number    object   number  number        popup   number  number\n",
      "probable   number  number    query   number  number    query    number\n",
      "number        resizes   number  number    servlet   number  number\n",
      "skip   number    number  number    stems       number  number\n",
      "subject jsp   number  number    sucks    number  number    templating\n",
      "number  number        tempted   number  number    url    number\n",
      "number    usenet   number  number    usenet    number  number\n",
      "wrote   number  number    x mailer mozilla number  number   en\n",
      "windows nt number  number   u        number  number    zope   number\n",
      "number     number     number  number     ccnumber     number  number\n",
      "ffnumber     number  number     ffnumber     number  number     ffffff\n",
      "number  number     copy        number  number     gt    number  number\n",
      "nbsp  nbsp    number  number     quot no   number  number         med\n",
      "number  number     small   number  number    number pt    number\n",
      "number    number px    number  number    number px        number\n",
      "number    number pt    number  number    number px    number  number\n",
      "number pt    number  number    number px    number  number\n",
      "number pt    number  number    number px    number  number    number\n",
      "number  number    number pt    number  number               number\n",
      "number        number  number        number  number        number\n",
      "number            number  number        number  number        number\n",
      "number        number  number            number  number        number\n",
      "number        number  number             number  number        number\n",
      "number      tr   number  number      a   number  number     base\n",
      "number  number     body   number  number        number  number\n",
      "nbsp    number  number      a       number  number      span   number\n",
      "number     font   number  number     form   number  number\n",
      "number  number        number  number     img   number  number\n",
      "input   number  number     meta   number  number         option\n",
      "number  number        number  number     a   number  number\n",
      "number  number         select   number  number     span   number\n",
      "number        number  number     table   number  number         td\n",
      "number  number        number  number         number  number      img\n",
      "number  number         tr   number  number        number  number\n",
      "td   number  number          number  number    alt      number  number\n",
      "bold    number  number    border number        number  number\n",
      "border number     number  number    color    number  number    colspan\n",
      "number    number  number        colspan number     number  number\n",
      "colspan number    number  number    face  arial    number  number\n",
      "font family    number  number    font size    number  number    font\n",
      "weight    number  number        footer   number  number    for\n",
      "number  number    fucking    number  number        height  number\n",
      "number  number    height  number     number  number    height number\n",
      "number  number        height number    number  number    height number\n",
      "number  number    height number    number  number        height number\n",
      "number  number    height number    number  number    height number\n",
      "number  number        height number    number  number    height number\n",
      "number  number    height number    number  number        hspace number\n",
      "number  number    httpnumber  g   number  number    httpnumber\n",
      "webnumber    number  number    httpnumber  number        number\n",
      "number    httpnumber  ads   number  number    httpnumber  d   number\n",
      "number    httpnumber  page   number  number        httpnumber  site\n",
      "number  number    http number  article   number  number    http number\n",
      "back   number  number        http number  com   number  number    http\n",
      "number  d   number  number    http number  gif   number  number\n",
      "http number  go   number  number    http number  group   number\n",
      "number    http number  http   number  number        http number  post\n",
      "number  number    http number  ps   number  number    http number\n",
      "site   number  number        http number  st   number  number    http\n",
      "number  title   number  number    http number  yahoo   number  number\n",
      "inc     number  number    jobs    number  number    normal    number\n",
      "number    nowrap   number  number        nowrap    number  number\n",
      "nowrap  font   number  number    padding    number  number\n",
      "rowspan number    number  number    rowspan number    number  number\n",
      "servlets    number  number        size number    number  number\n",
      "size number    number  number    skip   number    number  number\n",
      "skip b number        number  number    skip h number    number  number\n",
      "skip h number    number  number    skip h number    number  number\n",
      "skip h number    number  number    skip h number    number  number\n",
      "skip h number    number  number        skip v number    number  number\n",
      "solid    number  number    text  number    number  number    to\n",
      "number  number    type  image    number  number    type  text\n",
      "number  number    type hidden       number  number    type image\n",
      "number  number    type radio   number  number    type submit   number\n",
      "number        type text   number  number    valign top   number\n",
      "number    valign top    number  number        value       number\n",
      "number    visibility    number  number    width    number  number\n",
      "width  number     number  number    width number    number  number\n",
      "width number     number  number        width number      number\n",
      "number    width number    number  number    width number    number\n",
      "number        width number    number  number    width number    number\n",
      "number    width number    number  number    width number        number\n",
      "number    width number    number  number    width number    number\n",
      "number    width number    number  number        width number    number\n",
      "number    width number    number  number    works    number  number\n",
      "the second f p had the same structure  and sender      the third f p\n",
      "had the same structure and a different sender   ditto the fifth  sixth\n",
      "not posting clues for brevity   the fourth was different  plaintext\n",
      "with one very short sentence and a url   clues     number  number\n",
      "number  s  from email addr digicool   number  number    httpnumber\n",
      "news   number  number       from email addr com    number  number\n",
      "from tres   number  number    http number  number digi      number\n",
      "number    proto http   number  number    subject geeks   number\n",
      "number    x mailer mozilla    number  number   en   xnumber   u  linux\n",
      "number  number  number  number  number smp inumber     number  number\n",
      "take   number  number       bool noorg   number  number    httpnumber\n",
      "com   number  number    skip h number    number  number       http\n",
      "number  htm   number  number    subject software   number  number\n",
      "http number  business      number  number    http number  local\n",
      "number  number    subject firm   number  number    us    number\n",
      "number  the seventh was similar  i scanned a bunch more until i got\n",
      "bored  and most of them were either of the first form  brief text with\n",
      "url followed by quoted html from website  or the second  brief text\n",
      "with one or more urls   it s up to you to decide what to call this\n",
      "but i think these are none of your  number    number  or  number\n",
      "they re close to  number   but all are multipart mixed rather than\n",
      "multipart alternative       so i guess i ll have to retrain it  yes\n",
      "you told me so           that would be a different experiment   i m\n",
      "certainly curious to see whether   jeremy s much worse than mine error\n",
      "rates are typical or aberrant  it s possible that the corpus you ve\n",
      "trained on is more homogeneous than you thought    guido van rossum\n",
      "home page  httpaddr\n",
      "-+-+-+-+-+-+-+-+-+-+-+-+-+-+-+-+-+-+-+-+-+-+-+-+-+-+-+-+-+-+-+-+-+-+-+-+-+-+-+-+-+-+-+-+-+-+-+-+-+-+\n",
      "Sample 2:\n",
      "Label: spam\n",
      "Count: 2137\n",
      "Subject : new extensions now only dollar number  number , Body: public\n",
      "announcement  the new domain names are finally available to the\n",
      "general public at discount prices  now you can register one of the\n",
      "exciting new  biz or  info domain names  as well as the original  com\n",
      "and  net names for just dollar number  number   these brand new domain\n",
      "extensions were recently approved by icann and have the same rights as\n",
      "the original  com and  net domain names  the biggest benefit is of\n",
      "course that the  biz and  info domain names are currently more\n",
      "available  i e  it will be much easier to register an attractive and\n",
      "easy to remember domain name for the same price   visit  httpaddr\n",
      "today for more info    register your domain name today for just dollar\n",
      "number  number  at  httpaddr  registration fees include full access to\n",
      "an easy to use control panel to manage your domain name in the future\n",
      "sincerely    domain administrator affordable domains to remove your\n",
      "email address from further promotional mailings from this company\n",
      "click here  httpaddr  number  number reyonumber  number zkcvnumber\n",
      "tdvrnumber  number ilirnumber wysonumber  number auornumber jqxznumber\n",
      "number lnumber\n",
      "-+-+-+-+-+-+-+-+-+-+-+-+-+-+-+-+-+-+-+-+-+-+-+-+-+-+-+-+-+-+-+-+-+-+-+-+-+-+-+-+-+-+-+-+-+-+-+-+-+-+\n",
      "Sample 3:\n",
      "Label: spam\n",
      "Count: 1917\n",
      "Subject : new extensions now only dollar number  number  emailaddr,\n",
      "Body:   rand   public announcement     the new domain names are\n",
      "finally available to the general public at discount prices  now you\n",
      "can register one of the exciting new  biz or  info domain names  as\n",
      "well as the original  com and  net names for just dollar number\n",
      "number   these brand new domain extensions were recently approved by\n",
      "icann and have the same rights as the original  com and  net domain\n",
      "names  the biggest benefit is of course that the  biz and  info domain\n",
      "names are currently more available  i e  it will be much easier to\n",
      "register an attractive and easy to remember domain name for the same\n",
      "price   visit  httpaddr  today for more info      register your domain\n",
      "name today for just dollar number  number  at  httpaddr   registration\n",
      "fees include full access to an easy to use control panel to manage\n",
      "your domain name in the future      sincerely      domain\n",
      "administrator  affordable domains      to remove your email address\n",
      "from further promotional mailings from this company  click here\n",
      "httpaddr   number                   emailaddr\n",
      "-+-+-+-+-+-+-+-+-+-+-+-+-+-+-+-+-+-+-+-+-+-+-+-+-+-+-+-+-+-+-+-+-+-+-+-+-+-+-+-+-+-+-+-+-+-+-+-+-+-+\n",
      "Sample 4:\n",
      "Label: spam\n",
      "Count: 1512\n",
      "Subject :  ilug  re  popular  biz and  com extensions for only dollar\n",
      "number  number , Body: register  com   biz  and  info domains for only\n",
      "dollar number  number  the new domain names are finally available to\n",
      "the general public at discount prices  now you can register one of the\n",
      "exciting new  biz or  info domain names  as well as the original  com\n",
      "and  net names for just dollar number  number   these brand new domain\n",
      "extensions were recently approved by icann and have the same rights as\n",
      "the original  com and  net domain names  the biggest benefit is of\n",
      "course that the  biz and  info domain names are currently more\n",
      "available  i e  it will be much easier to register an attractive and\n",
      "easy to remember domain name for the same price   visit  httpaddr\n",
      "today for more info    register your domain name today for just dollar\n",
      "number  number  at  httpaddr   registration fees include full access\n",
      "to an easy to use control panel to manage your domain name in the\n",
      "future    sincerely    domain administrator domains for everyone to\n",
      "remove your email address from further promotional mailings from this\n",
      "company  click here  httpaddr   gnumber  ssnumber  number zsionumber\n",
      "number esurnumber hwjenumber  number mhzgnumber xwnflnumber      irish\n",
      "linux users  group  emailaddr httpaddr  for  un subscription\n",
      "information  list maintainer  emailaddr\n",
      "-+-+-+-+-+-+-+-+-+-+-+-+-+-+-+-+-+-+-+-+-+-+-+-+-+-+-+-+-+-+-+-+-+-+-+-+-+-+-+-+-+-+-+-+-+-+-+-+-+-+\n"
     ]
    }
   ],
   "source": [
    "print_random_wrapped_emails(df,'clean_body' , 'clean_subject',num_samples=4)"
   ]
  },
  {
   "attachments": {},
   "cell_type": "markdown",
   "metadata": {},
   "source": [
    "### Observations:\n",
    "- We observed, there are no more urls and hyper links and all the letters have been lower cased.\n",
    "- There are no special characters and punctuations have been removed."
   ]
  },
  {
   "cell_type": "code",
   "execution_count": 26,
   "metadata": {},
   "outputs": [
    {
     "name": "stdout",
     "output_type": "stream",
     "text": [
      "<class 'pandas.core.frame.DataFrame'>\n",
      "RangeIndex: 3718 entries, 0 to 3717\n",
      "Data columns (total 6 columns):\n",
      " #   Column         Non-Null Count  Dtype \n",
      "---  ------         --------------  ----- \n",
      " 0   Subject        3718 non-null   object\n",
      " 1   Body           3718 non-null   object\n",
      " 2   Category       3718 non-null   object\n",
      " 3   is_spam        3718 non-null   int64 \n",
      " 4   clean_subject  3718 non-null   object\n",
      " 5   clean_body     3718 non-null   object\n",
      "dtypes: int64(1), object(5)\n",
      "memory usage: 174.4+ KB\n"
     ]
    }
   ],
   "source": [
    "df.info()"
   ]
  },
  {
   "cell_type": "code",
   "execution_count": 27,
   "metadata": {},
   "outputs": [],
   "source": [
    "df['clean_subject'] = df['clean_subject'].astype(str)\n",
    "df['clean_body'] = df['clean_body'].astype(str)\n",
    "df['is_spam'] = df['is_spam'].astype(float)\n",
    "df['clean_email_content'] = df.apply(lambda row: row['clean_subject'] + \" \" + row['clean_body'], axis=1)"
   ]
  },
  {
   "cell_type": "code",
   "execution_count": 28,
   "metadata": {},
   "outputs": [
    {
     "data": {
      "text/plain": [
       "0    re   satalk  removing spam  from sa notice   c...\n",
       "1    funds investment senior advocate of nigeria  b...\n",
       "2    re  your vip pass                             ...\n",
       "3    something for the person who has everything  i...\n",
       "4     wm  adv   direct email blaster  email address...\n",
       "Name: clean_email_content, dtype: object"
      ]
     },
     "execution_count": 28,
     "metadata": {},
     "output_type": "execute_result"
    }
   ],
   "source": [
    "df['clean_email_content'].head(5)"
   ]
  },
  {
   "cell_type": "code",
   "execution_count": 29,
   "metadata": {},
   "outputs": [
    {
     "data": {
      "text/html": [
       "<div>\n",
       "<style scoped>\n",
       "    .dataframe tbody tr th:only-of-type {\n",
       "        vertical-align: middle;\n",
       "    }\n",
       "\n",
       "    .dataframe tbody tr th {\n",
       "        vertical-align: top;\n",
       "    }\n",
       "\n",
       "    .dataframe thead th {\n",
       "        text-align: right;\n",
       "    }\n",
       "</style>\n",
       "<table border=\"1\" class=\"dataframe\">\n",
       "  <thead>\n",
       "    <tr style=\"text-align: right;\">\n",
       "      <th></th>\n",
       "      <th>Subject</th>\n",
       "      <th>Body</th>\n",
       "      <th>Category</th>\n",
       "      <th>is_spam</th>\n",
       "      <th>clean_subject</th>\n",
       "      <th>clean_body</th>\n",
       "      <th>clean_email_content</th>\n",
       "    </tr>\n",
       "  </thead>\n",
       "  <tbody>\n",
       "    <tr>\n",
       "      <th>0</th>\n",
       "      <td>Re: [SAtalk] Removing SPAM: from SA notice</td>\n",
       "      <td>\\n\"Christopher Crowley\" said:\\n\\n&gt; That says t...</td>\n",
       "      <td>ham</td>\n",
       "      <td>0.0</td>\n",
       "      <td>re   satalk  removing spam  from sa notice</td>\n",
       "      <td>christopher crowley  said    that says that ...</td>\n",
       "      <td>re   satalk  removing spam  from sa notice   c...</td>\n",
       "    </tr>\n",
       "    <tr>\n",
       "      <th>1</th>\n",
       "      <td>Funds Investment</td>\n",
       "      <td>SENIOR ADVOCATE OF NIGERIA \\nBARR. WILLIAMS FA...</td>\n",
       "      <td>spam</td>\n",
       "      <td>1.0</td>\n",
       "      <td>funds investment</td>\n",
       "      <td>senior advocate of nigeria  barr  williams fal...</td>\n",
       "      <td>funds investment senior advocate of nigeria  b...</td>\n",
       "    </tr>\n",
       "    <tr>\n",
       "      <th>2</th>\n",
       "      <td>Re: Your VIP Pass</td>\n",
       "      <td>###################################\\n\\n  FREE ...</td>\n",
       "      <td>spam</td>\n",
       "      <td>1.0</td>\n",
       "      <td>re  your vip pass</td>\n",
       "      <td>free adu...</td>\n",
       "      <td>re  your vip pass                             ...</td>\n",
       "    </tr>\n",
       "    <tr>\n",
       "      <th>3</th>\n",
       "      <td>Something for the person who has everything</td>\n",
       "      <td>\\nInteresting ebay item......(and no it wasnt ...</td>\n",
       "      <td>ham</td>\n",
       "      <td>0.0</td>\n",
       "      <td>something for the person who has everything</td>\n",
       "      <td>interesting ebay item       and no it wasnt m...</td>\n",
       "      <td>something for the person who has everything  i...</td>\n",
       "    </tr>\n",
       "    <tr>\n",
       "      <th>4</th>\n",
       "      <td>[WM] ADV:  Direct email blaster, email address...</td>\n",
       "      <td>&lt;BODY bgColor=#ffffff&gt;\\n&lt;DIV&gt;&lt;FONT face=&amp;#2343...</td>\n",
       "      <td>spam</td>\n",
       "      <td>1.0</td>\n",
       "      <td>wm  adv   direct email blaster  email address...</td>\n",
       "      <td>direct email  blaster           the pr...</td>\n",
       "      <td>wm  adv   direct email blaster  email address...</td>\n",
       "    </tr>\n",
       "  </tbody>\n",
       "</table>\n",
       "</div>"
      ],
      "text/plain": [
       "                                             Subject  \\\n",
       "0         Re: [SAtalk] Removing SPAM: from SA notice   \n",
       "1                                   Funds Investment   \n",
       "2                                  Re: Your VIP Pass   \n",
       "3        Something for the person who has everything   \n",
       "4  [WM] ADV:  Direct email blaster, email address...   \n",
       "\n",
       "                                                Body Category  is_spam  \\\n",
       "0  \\n\"Christopher Crowley\" said:\\n\\n> That says t...      ham      0.0   \n",
       "1  SENIOR ADVOCATE OF NIGERIA \\nBARR. WILLIAMS FA...     spam      1.0   \n",
       "2  ###################################\\n\\n  FREE ...     spam      1.0   \n",
       "3  \\nInteresting ebay item......(and no it wasnt ...      ham      0.0   \n",
       "4  <BODY bgColor=#ffffff>\\n<DIV><FONT face=&#2343...     spam      1.0   \n",
       "\n",
       "                                       clean_subject  \\\n",
       "0         re   satalk  removing spam  from sa notice   \n",
       "1                                   funds investment   \n",
       "2                                  re  your vip pass   \n",
       "3        something for the person who has everything   \n",
       "4   wm  adv   direct email blaster  email address...   \n",
       "\n",
       "                                          clean_body  \\\n",
       "0    christopher crowley  said    that says that ...   \n",
       "1  senior advocate of nigeria  barr  williams fal...   \n",
       "2                                        free adu...   \n",
       "3   interesting ebay item       and no it wasnt m...   \n",
       "4          direct email  blaster           the pr...   \n",
       "\n",
       "                                 clean_email_content  \n",
       "0  re   satalk  removing spam  from sa notice   c...  \n",
       "1  funds investment senior advocate of nigeria  b...  \n",
       "2  re  your vip pass                             ...  \n",
       "3  something for the person who has everything  i...  \n",
       "4   wm  adv   direct email blaster  email address...  "
      ]
     },
     "execution_count": 29,
     "metadata": {},
     "output_type": "execute_result"
    }
   ],
   "source": [
    "df.head()"
   ]
  },
  {
   "cell_type": "code",
   "execution_count": 30,
   "metadata": {},
   "outputs": [
    {
     "data": {
      "text/plain": [
       "Subject                0\n",
       "Body                   0\n",
       "Category               0\n",
       "is_spam                0\n",
       "clean_subject          0\n",
       "clean_body             0\n",
       "clean_email_content    0\n",
       "dtype: int64"
      ]
     },
     "execution_count": 30,
     "metadata": {},
     "output_type": "execute_result"
    }
   ],
   "source": [
    "df.isna().sum()"
   ]
  },
  {
   "cell_type": "code",
   "execution_count": 31,
   "metadata": {},
   "outputs": [
    {
     "data": {
      "text/html": [
       "<div>\n",
       "<style scoped>\n",
       "    .dataframe tbody tr th:only-of-type {\n",
       "        vertical-align: middle;\n",
       "    }\n",
       "\n",
       "    .dataframe tbody tr th {\n",
       "        vertical-align: top;\n",
       "    }\n",
       "\n",
       "    .dataframe thead th {\n",
       "        text-align: right;\n",
       "    }\n",
       "</style>\n",
       "<table border=\"1\" class=\"dataframe\">\n",
       "  <thead>\n",
       "    <tr style=\"text-align: right;\">\n",
       "      <th></th>\n",
       "      <th>Subject</th>\n",
       "      <th>Body</th>\n",
       "      <th>Category</th>\n",
       "      <th>is_spam</th>\n",
       "      <th>clean_subject</th>\n",
       "      <th>clean_body</th>\n",
       "      <th>clean_email_content</th>\n",
       "    </tr>\n",
       "  </thead>\n",
       "  <tbody>\n",
       "    <tr>\n",
       "      <th>0</th>\n",
       "      <td>Re: [SAtalk] Removing SPAM: from SA notice</td>\n",
       "      <td>\\n\"Christopher Crowley\" said:\\n\\n&gt; That says t...</td>\n",
       "      <td>ham</td>\n",
       "      <td>0.0</td>\n",
       "      <td>re   satalk  removing spam  from sa notice</td>\n",
       "      <td>christopher crowley  said    that says that ...</td>\n",
       "      <td>re   satalk  removing spam  from sa notice   c...</td>\n",
       "    </tr>\n",
       "    <tr>\n",
       "      <th>1</th>\n",
       "      <td>Funds Investment</td>\n",
       "      <td>SENIOR ADVOCATE OF NIGERIA \\nBARR. WILLIAMS FA...</td>\n",
       "      <td>spam</td>\n",
       "      <td>1.0</td>\n",
       "      <td>funds investment</td>\n",
       "      <td>senior advocate of nigeria  barr  williams fal...</td>\n",
       "      <td>funds investment senior advocate of nigeria  b...</td>\n",
       "    </tr>\n",
       "    <tr>\n",
       "      <th>2</th>\n",
       "      <td>Re: Your VIP Pass</td>\n",
       "      <td>###################################\\n\\n  FREE ...</td>\n",
       "      <td>spam</td>\n",
       "      <td>1.0</td>\n",
       "      <td>re  your vip pass</td>\n",
       "      <td>free adu...</td>\n",
       "      <td>re  your vip pass                             ...</td>\n",
       "    </tr>\n",
       "    <tr>\n",
       "      <th>3</th>\n",
       "      <td>Something for the person who has everything</td>\n",
       "      <td>\\nInteresting ebay item......(and no it wasnt ...</td>\n",
       "      <td>ham</td>\n",
       "      <td>0.0</td>\n",
       "      <td>something for the person who has everything</td>\n",
       "      <td>interesting ebay item       and no it wasnt m...</td>\n",
       "      <td>something for the person who has everything  i...</td>\n",
       "    </tr>\n",
       "    <tr>\n",
       "      <th>4</th>\n",
       "      <td>[WM] ADV:  Direct email blaster, email address...</td>\n",
       "      <td>&lt;BODY bgColor=#ffffff&gt;\\n&lt;DIV&gt;&lt;FONT face=&amp;#2343...</td>\n",
       "      <td>spam</td>\n",
       "      <td>1.0</td>\n",
       "      <td>wm  adv   direct email blaster  email address...</td>\n",
       "      <td>direct email  blaster           the pr...</td>\n",
       "      <td>wm  adv   direct email blaster  email address...</td>\n",
       "    </tr>\n",
       "  </tbody>\n",
       "</table>\n",
       "</div>"
      ],
      "text/plain": [
       "                                             Subject  \\\n",
       "0         Re: [SAtalk] Removing SPAM: from SA notice   \n",
       "1                                   Funds Investment   \n",
       "2                                  Re: Your VIP Pass   \n",
       "3        Something for the person who has everything   \n",
       "4  [WM] ADV:  Direct email blaster, email address...   \n",
       "\n",
       "                                                Body Category  is_spam  \\\n",
       "0  \\n\"Christopher Crowley\" said:\\n\\n> That says t...      ham      0.0   \n",
       "1  SENIOR ADVOCATE OF NIGERIA \\nBARR. WILLIAMS FA...     spam      1.0   \n",
       "2  ###################################\\n\\n  FREE ...     spam      1.0   \n",
       "3  \\nInteresting ebay item......(and no it wasnt ...      ham      0.0   \n",
       "4  <BODY bgColor=#ffffff>\\n<DIV><FONT face=&#2343...     spam      1.0   \n",
       "\n",
       "                                       clean_subject  \\\n",
       "0         re   satalk  removing spam  from sa notice   \n",
       "1                                   funds investment   \n",
       "2                                  re  your vip pass   \n",
       "3        something for the person who has everything   \n",
       "4   wm  adv   direct email blaster  email address...   \n",
       "\n",
       "                                          clean_body  \\\n",
       "0    christopher crowley  said    that says that ...   \n",
       "1  senior advocate of nigeria  barr  williams fal...   \n",
       "2                                        free adu...   \n",
       "3   interesting ebay item       and no it wasnt m...   \n",
       "4          direct email  blaster           the pr...   \n",
       "\n",
       "                                 clean_email_content  \n",
       "0  re   satalk  removing spam  from sa notice   c...  \n",
       "1  funds investment senior advocate of nigeria  b...  \n",
       "2  re  your vip pass                             ...  \n",
       "3  something for the person who has everything  i...  \n",
       "4   wm  adv   direct email blaster  email address...  "
      ]
     },
     "execution_count": 31,
     "metadata": {},
     "output_type": "execute_result"
    }
   ],
   "source": [
    "df.head()"
   ]
  },
  {
   "attachments": {},
   "cell_type": "markdown",
   "metadata": {},
   "source": [
    "#### Tokenization, Removal of Stopwords and Lemmatization."
   ]
  },
  {
   "cell_type": "code",
   "execution_count": 74,
   "metadata": {},
   "outputs": [
    {
     "name": "stderr",
     "output_type": "stream",
     "text": [
      "[nltk_data] Error loading wordnet: <urlopen error [SSL:\n",
      "[nltk_data]     CERTIFICATE_VERIFY_FAILED] certificate verify failed:\n",
      "[nltk_data]     unable to get local issuer certificate (_ssl.c:992)>\n"
     ]
    }
   ],
   "source": [
    "# Create an instance of WordNetLemmatizer\n",
    "lemmatizer = WordNetLemmatizer()\n",
    "stop_words = set(stopwords.words('english'))\n",
    "# Function to tokenize and lemmatize a string, then join it back into a string\n",
    "def token_lemmatize(text):\n",
    "    tokens = word_tokenize(text)\n",
    "    filtered_tokens = [token for token in tokens if token.lower() not in stop_words]\n",
    "    lemmatized_tokens = [lemmatizer.lemmatize(token) for token in filtered_tokens]\n",
    "    return ' '.join(lemmatized_tokens)\n",
    "\n",
    "# Apply the function to the 'clean_body' column\n",
    "df['token_lemmatize'] = df['clean_body'].apply(token_lemmatize)\n"
   ]
  },
  {
   "cell_type": "code",
   "execution_count": 75,
   "metadata": {},
   "outputs": [
    {
     "data": {
      "text/html": [
       "<div>\n",
       "<style scoped>\n",
       "    .dataframe tbody tr th:only-of-type {\n",
       "        vertical-align: middle;\n",
       "    }\n",
       "\n",
       "    .dataframe tbody tr th {\n",
       "        vertical-align: top;\n",
       "    }\n",
       "\n",
       "    .dataframe thead th {\n",
       "        text-align: right;\n",
       "    }\n",
       "</style>\n",
       "<table border=\"1\" class=\"dataframe\">\n",
       "  <thead>\n",
       "    <tr style=\"text-align: right;\">\n",
       "      <th></th>\n",
       "      <th>Subject</th>\n",
       "      <th>Body</th>\n",
       "      <th>Category</th>\n",
       "      <th>is_spam</th>\n",
       "      <th>clean_subject</th>\n",
       "      <th>clean_body</th>\n",
       "      <th>clean_email_content</th>\n",
       "      <th>token_lemmatize</th>\n",
       "    </tr>\n",
       "  </thead>\n",
       "  <tbody>\n",
       "    <tr>\n",
       "      <th>3713</th>\n",
       "      <td>[Spambayes] Current histograms</td>\n",
       "      <td>We've not only reduced the f-p and f-n rates i...</td>\n",
       "      <td>ham</td>\n",
       "      <td>0.0</td>\n",
       "      <td>spambayes  current histograms</td>\n",
       "      <td>we ve not only reduced the f p and f n rates i...</td>\n",
       "      <td>spambayes  current histograms we ve not only ...</td>\n",
       "      <td>reduced f p f n rate test run also made score ...</td>\n",
       "    </tr>\n",
       "    <tr>\n",
       "      <th>3714</th>\n",
       "      <td>Re: [ILUG] Serial number in hosts file</td>\n",
       "      <td>Ray Dermody's [DERMODYR@ITCARLOW.IE] 20 lines ...</td>\n",
       "      <td>ham</td>\n",
       "      <td>0.0</td>\n",
       "      <td>re   ilug  serial number in hosts file</td>\n",
       "      <td>ray dermody s emailaddr number  lines of wisdo...</td>\n",
       "      <td>re   ilug  serial number in hosts file ray der...</td>\n",
       "      <td>ray dermody emailaddr number line wisdom inclu...</td>\n",
       "    </tr>\n",
       "    <tr>\n",
       "      <th>3715</th>\n",
       "      <td>Radio gives mighty roar to quiet cars</td>\n",
       "      <td>URL: http://www.newsisfree.com/click/-6,810696...</td>\n",
       "      <td>ham</td>\n",
       "      <td>0.0</td>\n",
       "      <td>radio gives mighty roar to quiet cars</td>\n",
       "      <td>url  httpaddr  date  not supplied a patented s...</td>\n",
       "      <td>radio gives mighty roar to quiet cars url  htt...</td>\n",
       "      <td>url httpaddr date supplied patented system all...</td>\n",
       "    </tr>\n",
       "    <tr>\n",
       "      <th>3716</th>\n",
       "      <td>Bigger, Fuller Breasts Naturally In Just Weeks...</td>\n",
       "      <td>&lt;html&gt;\\n&lt;head&gt;&lt;/head&gt;\\n&lt;body bgcolor = pink&gt;\\n...</td>\n",
       "      <td>spam</td>\n",
       "      <td>1.0</td>\n",
       "      <td>bigger  fuller breasts naturally in just weeks...</td>\n",
       "      <td>for women ages number  to number  plus...</td>\n",
       "      <td>bigger  fuller breasts naturally in just weeks...</td>\n",
       "      <td>woman age number number plus seen tv safely ma...</td>\n",
       "    </tr>\n",
       "    <tr>\n",
       "      <th>3717</th>\n",
       "      <td>Your Commissions of $5000 per WEEK! ssva</td>\n",
       "      <td>Give me 5 minutes and I will show you how\\nto ...</td>\n",
       "      <td>spam</td>\n",
       "      <td>1.0</td>\n",
       "      <td>your commissions of dollar number  per week  ssva</td>\n",
       "      <td>give me number  minutes and i will show you ho...</td>\n",
       "      <td>your commissions of dollar number  per week  s...</td>\n",
       "      <td>give number minute show turn computer cash mac...</td>\n",
       "    </tr>\n",
       "  </tbody>\n",
       "</table>\n",
       "</div>"
      ],
      "text/plain": [
       "                                                Subject  \\\n",
       "3713                     [Spambayes] Current histograms   \n",
       "3714             Re: [ILUG] Serial number in hosts file   \n",
       "3715              Radio gives mighty roar to quiet cars   \n",
       "3716  Bigger, Fuller Breasts Naturally In Just Weeks...   \n",
       "3717           Your Commissions of $5000 per WEEK! ssva   \n",
       "\n",
       "                                                   Body Category  is_spam  \\\n",
       "3713  We've not only reduced the f-p and f-n rates i...      ham      0.0   \n",
       "3714  Ray Dermody's [DERMODYR@ITCARLOW.IE] 20 lines ...      ham      0.0   \n",
       "3715  URL: http://www.newsisfree.com/click/-6,810696...      ham      0.0   \n",
       "3716  <html>\\n<head></head>\\n<body bgcolor = pink>\\n...     spam      1.0   \n",
       "3717  Give me 5 minutes and I will show you how\\nto ...     spam      1.0   \n",
       "\n",
       "                                          clean_subject  \\\n",
       "3713                      spambayes  current histograms   \n",
       "3714             re   ilug  serial number in hosts file   \n",
       "3715              radio gives mighty roar to quiet cars   \n",
       "3716  bigger  fuller breasts naturally in just weeks...   \n",
       "3717  your commissions of dollar number  per week  ssva   \n",
       "\n",
       "                                             clean_body  \\\n",
       "3713  we ve not only reduced the f p and f n rates i...   \n",
       "3714  ray dermody s emailaddr number  lines of wisdo...   \n",
       "3715  url  httpaddr  date  not supplied a patented s...   \n",
       "3716          for women ages number  to number  plus...   \n",
       "3717  give me number  minutes and i will show you ho...   \n",
       "\n",
       "                                    clean_email_content  \\\n",
       "3713   spambayes  current histograms we ve not only ...   \n",
       "3714  re   ilug  serial number in hosts file ray der...   \n",
       "3715  radio gives mighty roar to quiet cars url  htt...   \n",
       "3716  bigger  fuller breasts naturally in just weeks...   \n",
       "3717  your commissions of dollar number  per week  s...   \n",
       "\n",
       "                                        token_lemmatize  \n",
       "3713  reduced f p f n rate test run also made score ...  \n",
       "3714  ray dermody emailaddr number line wisdom inclu...  \n",
       "3715  url httpaddr date supplied patented system all...  \n",
       "3716  woman age number number plus seen tv safely ma...  \n",
       "3717  give number minute show turn computer cash mac...  "
      ]
     },
     "execution_count": 75,
     "metadata": {},
     "output_type": "execute_result"
    }
   ],
   "source": [
    "df.tail()"
   ]
  },
  {
   "attachments": {},
   "cell_type": "markdown",
   "metadata": {},
   "source": [
    "## CLASSIFIER MODELS"
   ]
  },
  {
   "attachments": {},
   "cell_type": "markdown",
   "metadata": {},
   "source": [
    "#### MODEL 1: Navie  Bayes Classifier"
   ]
  },
  {
   "cell_type": "code",
   "execution_count": 76,
   "metadata": {},
   "outputs": [
    {
     "name": "stdout",
     "output_type": "stream",
     "text": [
      "Training Accuracy: 0.9932735426008968\n",
      "Validation Accuracy: 0.9663978494623656\n",
      "Test Accuracy: 0.9825268817204301\n",
      "              precision    recall  f1-score   support\n",
      "\n",
      "         0.0       0.98      0.99      0.98       366\n",
      "         1.0       0.99      0.98      0.98       378\n",
      "\n",
      "    accuracy                           0.98       744\n",
      "   macro avg       0.98      0.98      0.98       744\n",
      "weighted avg       0.98      0.98      0.98       744\n",
      "\n",
      "[[362   4]\n",
      " [  9 369]]\n"
     ]
    },
    {
     "data": {
      "image/png": "[encoded data removed]",
      "text/plain": [
       "<Figure size 640x480 with 2 Axes>"
      ]
     },
     "metadata": {},
     "output_type": "display_data"
    },
    {
     "data": {
      "image/png": "[encoded data removed]",
      "text/plain": [
       "<Figure size 1000x1000 with 1 Axes>"
      ]
     },
     "metadata": {},
     "output_type": "display_data"
    }
   ],
   "source": [
    "\n",
    "# Split the data into training, validation, and test sets \n",
    "X_train, X_val_test, y_train, y_val_test = train_test_split(df['clean_email_content'], df['is_spam'], test_size=0.5, random_state=42)\n",
    "X_val, X_test, y_val, y_test = train_test_split(X_val_test, y_val_test, test_size=0.5, random_state=42)\n",
    "\n",
    "# create a bag-of-words representation of the text data.\n",
    "# Create an instance of CountVectorizer\n",
    "vectorizer = CountVectorizer()\n",
    "\n",
    "# Fit and transform the training data\n",
    "X_train_vectorized = vectorizer.fit_transform(X_train)\n",
    "\n",
    "# Transform the validation and test data\n",
    "X_val_vectorized = vectorizer.transform(X_val)\n",
    "X_test_vectorized = vectorizer.transform(X_test)\n",
    "\n",
    "# Create an instance of the Naive Bayes classifier (MultinomialNB)\n",
    "classifier = MultinomialNB()\n",
    "\n",
    "# Train the classifier on the vectorized training data\n",
    "classifier.fit(X_train_vectorized, y_train)\n",
    "\n",
    "# Make predictions on the training, validation, and test data\n",
    "y_train_pred = classifier.predict(X_train_vectorized)\n",
    "y_val_pred = classifier.predict(X_val_vectorized)\n",
    "y_test_pred = classifier.predict(X_test_vectorized)\n",
    "\n",
    "# Calculate the accuracy on each dataset\n",
    "train_accuracy = accuracy_score(y_train, y_train_pred)\n",
    "val_accuracy = accuracy_score(y_val, y_val_pred)\n",
    "test_accuracy = accuracy_score(y_test, y_test_pred)\n",
    "\n",
    "# Print the accuracies\n",
    "print(\"Training Accuracy:\", train_accuracy)\n",
    "print(\"Validation Accuracy:\", val_accuracy)\n",
    "print(\"Test Accuracy:\", test_accuracy)\n",
    "\n",
    "# Print the classification report\n",
    "print(classification_report(y_test, y_test_pred))\n",
    "\n",
    "# Print the confusion matrix\n",
    "print(confusion_matrix(y_test, y_test_pred))\n",
    "\n",
    "# plot confusion matrix\n",
    "sns.heatmap(confusion_matrix(y_test, y_test_pred), annot=True, fmt='d')\n",
    "\n",
    "# plot roc-auc curve \n",
    "from sklearn.metrics import roc_curve, auc\n",
    "fpr, tpr, thresholds = roc_curve(y_test, y_test_pred)\n",
    "roc_auc = auc(fpr, tpr)\n",
    "\n",
    "plt.figure(figsize=(10,10))\n",
    "plt.plot(fpr, tpr, color='darkorange', lw=2, label='ROC curve (area = %0.2f)' % roc_auc)\n",
    "\n",
    "plt.plot([0, 1], [0, 1], color='navy', lw=2, linestyle='--')\n",
    "\n",
    "plt.xlim([0.0, 1.0])\n",
    "plt.ylim([0.0, 1.05])\n",
    "\n",
    "plt.xlabel('False Positive Rate')\n",
    "plt.ylabel('True Positive Rate')\n",
    "\n",
    "plt.title('Receiver operating characteristic example')\n",
    "plt.legend(loc=\"lower right\")\n",
    "plt.show()"
   ]
  },
  {
   "attachments": {},
   "cell_type": "markdown",
   "metadata": {},
   "source": [
    "# Observations:\n",
    "- High Accuracy: The model achieves high accuracy across all three sets: training accuracy of 99.33%, validation accuracy of 96.64%, and test accuracy of 98.25%. This indicates that the model is performing well in terms of correctly classifying as spam and ham messages.\n",
    "- Precision and Recall: The precision and recall for both classes (0 and 1) are quite high, with values ranging from 0.98 to 0.99. This suggests that the model is effective in identifying both spam andham messages, as indicated by the high precision (ability to correctly identify positive cases) and recall (ability to capture all positive cases) values.\n",
    "- F1-Score: The F1-score, which combines precision and recall, is also high for both classes, with values around 0.98. This implies a good balance between precision and recall, indicating a robust performance of the model in classifying spam and ham messages.\n",
    "- Confusion Matrix: The confusion matrix shows the number of true positives (369), true negatives (362), false positives (4), and false negatives (9). The majority of the messages are correctly classified, as indicated by the high number of true positives and true negatives. However, there are a few false positives and false negatives, indicating instances where the model misclassified spam or ham messages.\n",
    "- Overall, the model exhibits strong performance, achieving high accuracy and precision-recall values. However, the presence of some false positives and false negatives suggests that there is still room for improvement in correctly identifying certain messages. Further analysis and potential adjustments to the model or data preprocessing could help enhance its performance."
   ]
  },
  {
   "attachments": {},
   "cell_type": "markdown",
   "metadata": {},
   "source": [
    "#### MODEL 2: LINEAR SVM"
   ]
  },
  {
   "cell_type": "code",
   "execution_count": 77,
   "metadata": {},
   "outputs": [
    {
     "name": "stdout",
     "output_type": "stream",
     "text": [
      "Training Accuracy: 1.0\n",
      "Validation Accuracy: 0.9704301075268817\n",
      "Test Accuracy: 0.9771505376344086\n",
      "              precision    recall  f1-score   support\n",
      "\n",
      "         0.0       0.96      0.99      0.98       366\n",
      "         1.0       0.99      0.96      0.98       378\n",
      "\n",
      "    accuracy                           0.98       744\n",
      "   macro avg       0.98      0.98      0.98       744\n",
      "weighted avg       0.98      0.98      0.98       744\n",
      "\n",
      "[[363   3]\n",
      " [ 14 364]]\n"
     ]
    },
    {
     "data": {
      "image/png": "[encoded data removed]",
      "text/plain": [
       "<Figure size 640x480 with 2 Axes>"
      ]
     },
     "metadata": {},
     "output_type": "display_data"
    },
    {
     "data": {
      "image/png": "[encoded data removed]",
      "text/plain": [
       "<Figure size 1000x1000 with 1 Axes>"
      ]
     },
     "metadata": {},
     "output_type": "display_data"
    }
   ],
   "source": [
    "# Create an instance of the SVM classifier (SVC)\n",
    "classifier = SVC(kernel='linear')\n",
    "\n",
    "# Train the classifier on the vectorized training data\n",
    "classifier.fit(X_train_vectorized, y_train)\n",
    "\n",
    "# Make predictions on the training, validation, and test data\n",
    "y_train_pred = classifier.predict(X_train_vectorized)\n",
    "y_val_pred = classifier.predict(X_val_vectorized)\n",
    "y_test_pred = classifier.predict(X_test_vectorized)\n",
    "\n",
    "# Calculate the accuracy on each dataset\n",
    "train_accuracy = accuracy_score(y_train, y_train_pred)\n",
    "val_accuracy = accuracy_score(y_val, y_val_pred)\n",
    "test_accuracy = accuracy_score(y_test, y_test_pred)\n",
    "\n",
    "# Print the accuracies\n",
    "print(\"Training Accuracy:\", train_accuracy)\n",
    "print(\"Validation Accuracy:\", val_accuracy)\n",
    "print(\"Test Accuracy:\", test_accuracy)\n",
    "\n",
    "# Print the classification report\n",
    "print(classification_report(y_test, y_test_pred))\n",
    "\n",
    "# print confusion matrix\n",
    "print(confusion_matrix(y_test, y_test_pred))\n",
    "\n",
    "# plot confusion matrix\n",
    "sns.heatmap(confusion_matrix(y_test, y_test_pred), annot=True, fmt='d')\n",
    "\n",
    "fpr, tpr, thresholds = roc_curve(y_test, y_test_pred)\n",
    "roc_auc = auc(fpr, tpr)\n",
    "\n",
    "plt.figure(figsize=(10,10))\n",
    "plt.plot(fpr, tpr, color='darkorange', lw=2, label='ROC curve (area = %0.2f)' % roc_auc)\n",
    "\n",
    "plt.plot([0, 1], [0, 1], color='navy', lw=2, linestyle='--')\n",
    "\n",
    "plt.xlim([0.0, 1.0])\n",
    "plt.ylim([0.0, 1.05])\n",
    "\n",
    "plt.xlabel('False Positive Rate')\n",
    "plt.ylabel('True Positive Rate')\n",
    "\n",
    "plt.title('Receiver operating characteristic example')\n",
    "plt.legend(loc=\"lower right\")\n",
    "plt.show()\n"
   ]
  },
  {
   "attachments": {},
   "cell_type": "markdown",
   "metadata": {},
   "source": [
    "# Observations:\n",
    "- High Accuracy: The model achieves high accuracy across all three sets: training accuracy of 100%, validation accuracy of 97.04%, and test accuracy of 97.71%. This indicates that the model is performing well in terms of correctly classifying spam and ham messages.\n",
    "- Precision and Recall: The precision and recall for both classes (0 and 1) are quite high, with values ranging from 0.96 to 0.99. This suggests that the model is effective in identifying both spam and ham messages, as indicated by the high precision (ability to correctly identify positive cases) and recall (ability to capture all positive cases) values.\n",
    "- F1-Score: The F1-score, which combines precision and recall, is also high for both classes, with values around 0.98. This implies a good balance between precision and recall, indicating a robust performance of the model in classifying spam and ham messages.\n",
    "- Confusion Matrix: The confusion matrix shows the number of true positives (364), true negatives (363), false positives (3), and false negatives (14). The majority of the messages are correctly classified, as indicated by the high number of true positives and true negatives. However, there are a few false positives and false negatives, indicating instances where the model misclassified spam or ham messages."
   ]
  },
  {
   "attachments": {},
   "cell_type": "markdown",
   "metadata": {},
   "source": [
    "## MODEL 3: LSTM"
   ]
  },
  {
   "cell_type": "code",
   "execution_count": 80,
   "metadata": {},
   "outputs": [],
   "source": [
    "from tensorflow.keras.preprocessing.text import one_hot\n",
    "vocab_size = 10000\n",
    "\n",
    "one_hot_doc=[one_hot(words, n = vocab_size)\n",
    "           for words in df['token_lemmatize']\n",
    "           ]\n"
   ]
  },
  {
   "cell_type": "code",
   "execution_count": 81,
   "metadata": {},
   "outputs": [
    {
     "data": {
      "text/plain": [
       "count                                                  3718\n",
       "unique                                                 3143\n",
       "top       creditfix thank email address obtained purchas...\n",
       "freq                                                     11\n",
       "Name: token_lemmatize, dtype: object"
      ]
     },
     "execution_count": 81,
     "metadata": {},
     "output_type": "execute_result"
    }
   ],
   "source": [
    "df['token_lemmatize'].describe().T"
   ]
  },
  {
   "cell_type": "code",
   "execution_count": 82,
   "metadata": {},
   "outputs": [],
   "source": [
    "from tensorflow.keras.preprocessing.sequence import pad_sequences\n",
    "\n",
    "sentence_len = 300\n",
    "embedded_doc = pad_sequences(\n",
    "    one_hot_doc,\n",
    "    maxlen = sentence_len,\n",
    "    padding=\"pre\"\n",
    ")"
   ]
  },
  {
   "cell_type": "code",
   "execution_count": 83,
   "metadata": {},
   "outputs": [],
   "source": [
    "extract_features = pd.DataFrame(\n",
    "    data = embedded_doc\n",
    ")\n",
    "target=df[\"is_spam\"]"
   ]
  },
  {
   "cell_type": "code",
   "execution_count": 84,
   "metadata": {},
   "outputs": [],
   "source": [
    "df_final = pd.concat([extract_features,target],axis=1)"
   ]
  },
  {
   "cell_type": "code",
   "execution_count": 85,
   "metadata": {},
   "outputs": [
    {
     "data": {
      "text/html": [
       "<div>\n",
       "<style scoped>\n",
       "    .dataframe tbody tr th:only-of-type {\n",
       "        vertical-align: middle;\n",
       "    }\n",
       "\n",
       "    .dataframe tbody tr th {\n",
       "        vertical-align: top;\n",
       "    }\n",
       "\n",
       "    .dataframe thead th {\n",
       "        text-align: right;\n",
       "    }\n",
       "</style>\n",
       "<table border=\"1\" class=\"dataframe\">\n",
       "  <thead>\n",
       "    <tr style=\"text-align: right;\">\n",
       "      <th></th>\n",
       "      <th>0</th>\n",
       "      <th>1</th>\n",
       "      <th>2</th>\n",
       "      <th>3</th>\n",
       "      <th>4</th>\n",
       "      <th>5</th>\n",
       "      <th>6</th>\n",
       "      <th>7</th>\n",
       "      <th>8</th>\n",
       "      <th>9</th>\n",
       "      <th>...</th>\n",
       "      <th>291</th>\n",
       "      <th>292</th>\n",
       "      <th>293</th>\n",
       "      <th>294</th>\n",
       "      <th>295</th>\n",
       "      <th>296</th>\n",
       "      <th>297</th>\n",
       "      <th>298</th>\n",
       "      <th>299</th>\n",
       "      <th>is_spam</th>\n",
       "    </tr>\n",
       "  </thead>\n",
       "  <tbody>\n",
       "    <tr>\n",
       "      <th>0</th>\n",
       "      <td>0</td>\n",
       "      <td>0</td>\n",
       "      <td>0</td>\n",
       "      <td>0</td>\n",
       "      <td>0</td>\n",
       "      <td>0</td>\n",
       "      <td>0</td>\n",
       "      <td>0</td>\n",
       "      <td>0</td>\n",
       "      <td>0</td>\n",
       "      <td>...</td>\n",
       "      <td>9231</td>\n",
       "      <td>2983</td>\n",
       "      <td>4922</td>\n",
       "      <td>6518</td>\n",
       "      <td>3603</td>\n",
       "      <td>8105</td>\n",
       "      <td>1783</td>\n",
       "      <td>6015</td>\n",
       "      <td>4922</td>\n",
       "      <td>0.0</td>\n",
       "    </tr>\n",
       "    <tr>\n",
       "      <th>1</th>\n",
       "      <td>0</td>\n",
       "      <td>0</td>\n",
       "      <td>0</td>\n",
       "      <td>0</td>\n",
       "      <td>0</td>\n",
       "      <td>0</td>\n",
       "      <td>0</td>\n",
       "      <td>0</td>\n",
       "      <td>0</td>\n",
       "      <td>0</td>\n",
       "      <td>...</td>\n",
       "      <td>1310</td>\n",
       "      <td>5491</td>\n",
       "      <td>8707</td>\n",
       "      <td>3925</td>\n",
       "      <td>7495</td>\n",
       "      <td>7252</td>\n",
       "      <td>6453</td>\n",
       "      <td>5989</td>\n",
       "      <td>4922</td>\n",
       "      <td>1.0</td>\n",
       "    </tr>\n",
       "    <tr>\n",
       "      <th>2</th>\n",
       "      <td>0</td>\n",
       "      <td>0</td>\n",
       "      <td>0</td>\n",
       "      <td>0</td>\n",
       "      <td>0</td>\n",
       "      <td>0</td>\n",
       "      <td>0</td>\n",
       "      <td>0</td>\n",
       "      <td>0</td>\n",
       "      <td>0</td>\n",
       "      <td>...</td>\n",
       "      <td>5435</td>\n",
       "      <td>1331</td>\n",
       "      <td>8303</td>\n",
       "      <td>6437</td>\n",
       "      <td>7335</td>\n",
       "      <td>759</td>\n",
       "      <td>6606</td>\n",
       "      <td>6422</td>\n",
       "      <td>7272</td>\n",
       "      <td>1.0</td>\n",
       "    </tr>\n",
       "    <tr>\n",
       "      <th>3</th>\n",
       "      <td>0</td>\n",
       "      <td>0</td>\n",
       "      <td>0</td>\n",
       "      <td>0</td>\n",
       "      <td>0</td>\n",
       "      <td>0</td>\n",
       "      <td>0</td>\n",
       "      <td>0</td>\n",
       "      <td>0</td>\n",
       "      <td>0</td>\n",
       "      <td>...</td>\n",
       "      <td>888</td>\n",
       "      <td>9025</td>\n",
       "      <td>5564</td>\n",
       "      <td>4271</td>\n",
       "      <td>1102</td>\n",
       "      <td>8862</td>\n",
       "      <td>5173</td>\n",
       "      <td>2322</td>\n",
       "      <td>4922</td>\n",
       "      <td>0.0</td>\n",
       "    </tr>\n",
       "    <tr>\n",
       "      <th>4</th>\n",
       "      <td>4443</td>\n",
       "      <td>135</td>\n",
       "      <td>4152</td>\n",
       "      <td>7735</td>\n",
       "      <td>366</td>\n",
       "      <td>6998</td>\n",
       "      <td>5655</td>\n",
       "      <td>1708</td>\n",
       "      <td>5585</td>\n",
       "      <td>7219</td>\n",
       "      <td>...</td>\n",
       "      <td>9231</td>\n",
       "      <td>2983</td>\n",
       "      <td>4922</td>\n",
       "      <td>2034</td>\n",
       "      <td>3603</td>\n",
       "      <td>8105</td>\n",
       "      <td>1783</td>\n",
       "      <td>6015</td>\n",
       "      <td>4922</td>\n",
       "      <td>1.0</td>\n",
       "    </tr>\n",
       "  </tbody>\n",
       "</table>\n",
       "<p>5 rows × 301 columns</p>\n",
       "</div>"
      ],
      "text/plain": [
       "      0    1     2     3    4     5     6     7     8     9  ...   291   292  \\\n",
       "0     0    0     0     0    0     0     0     0     0     0  ...  9231  2983   \n",
       "1     0    0     0     0    0     0     0     0     0     0  ...  1310  5491   \n",
       "2     0    0     0     0    0     0     0     0     0     0  ...  5435  1331   \n",
       "3     0    0     0     0    0     0     0     0     0     0  ...   888  9025   \n",
       "4  4443  135  4152  7735  366  6998  5655  1708  5585  7219  ...  9231  2983   \n",
       "\n",
       "    293   294   295   296   297   298   299  is_spam  \n",
       "0  4922  6518  3603  8105  1783  6015  4922      0.0  \n",
       "1  8707  3925  7495  7252  6453  5989  4922      1.0  \n",
       "2  8303  6437  7335   759  6606  6422  7272      1.0  \n",
       "3  5564  4271  1102  8862  5173  2322  4922      0.0  \n",
       "4  4922  2034  3603  8105  1783  6015  4922      1.0  \n",
       "\n",
       "[5 rows x 301 columns]"
      ]
     },
     "execution_count": 85,
     "metadata": {},
     "output_type": "execute_result"
    }
   ],
   "source": [
    "df_final.head()"
   ]
  },
  {
   "cell_type": "code",
   "execution_count": 86,
   "metadata": {},
   "outputs": [],
   "source": [
    "X = df_final.drop(\"is_spam\",axis=1)\n",
    "y = df_final[\"is_spam\"]"
   ]
  },
  {
   "cell_type": "code",
   "execution_count": 120,
   "metadata": {},
   "outputs": [],
   "source": [
    "X_train_val,X_test,y_train_val,y_test = train_test_split(X, y, random_state=42, test_size=0.45)\n",
    "\n",
    "X_train, X_val, y_train, y_val = train_test_split(X_train_val, y_train_val, random_state=42, test_size=0.50)"
   ]
  },
  {
   "cell_type": "code",
   "execution_count": 142,
   "metadata": {},
   "outputs": [
    {
     "name": "stderr",
     "output_type": "stream",
     "text": [
      "WARNING:absl:At this time, the v2.11+ optimizer `tf.keras.optimizers.Adam` runs slowly on M1/M2 Macs, please use the legacy Keras optimizer instead, located at `tf.keras.optimizers.legacy.Adam`.\n",
      "WARNING:absl:There is a known slowdown when using v2.11+ Keras optimizers on M1/M2 Macs. Falling back to the legacy Keras optimizer, i.e., `tf.keras.optimizers.legacy.Adam`.\n"
     ]
    },
    {
     "name": "stdout",
     "output_type": "stream",
     "text": [
      "Epoch 1/15\n",
      "32/32 [==============================] - 33s 990ms/step - loss: 0.4462 - accuracy: 0.7926 - val_loss: 0.1336 - val_accuracy: 0.9550\n",
      "Epoch 2/15\n",
      "32/32 [==============================] - 23s 722ms/step - loss: 0.1389 - accuracy: 0.9697 - val_loss: 0.1291 - val_accuracy: 0.9628\n",
      "Epoch 3/15\n",
      "32/32 [==============================] - 20s 635ms/step - loss: 0.0457 - accuracy: 0.9932 - val_loss: 0.1097 - val_accuracy: 0.9726\n",
      "Epoch 4/15\n",
      "32/32 [==============================] - 24s 770ms/step - loss: 0.0116 - accuracy: 0.9971 - val_loss: 0.1133 - val_accuracy: 0.9716\n",
      "Epoch 5/15\n",
      "32/32 [==============================] - 21s 664ms/step - loss: 0.0025 - accuracy: 1.0000 - val_loss: 0.1193 - val_accuracy: 0.9726\n",
      "Epoch 6/15\n",
      "32/32 [==============================] - 19s 591ms/step - loss: 7.8616e-04 - accuracy: 1.0000 - val_loss: 0.1279 - val_accuracy: 0.9706\n",
      "Epoch 7/15\n",
      "32/32 [==============================] - 19s 593ms/step - loss: 4.5724e-04 - accuracy: 1.0000 - val_loss: 0.1330 - val_accuracy: 0.9726\n",
      "Epoch 8/15\n",
      "32/32 [==============================] - 18s 566ms/step - loss: 4.2725e-04 - accuracy: 1.0000 - val_loss: 0.1398 - val_accuracy: 0.9726\n",
      "Epoch 9/15\n",
      "32/32 [==============================] - 18s 582ms/step - loss: 1.9309e-04 - accuracy: 1.0000 - val_loss: 0.1460 - val_accuracy: 0.9746\n",
      "53/53 [==============================] - 7s 130ms/step - loss: 0.1055 - accuracy: 0.9725\n",
      "Loss: 0.10545319318771362\n",
      "Accuracy: 0.9725208878517151\n"
     ]
    }
   ],
   "source": [
    "# Define the model\n",
    "lstm_model = Sequential()\n",
    "feature_num = 1000\n",
    "lstm_model.add(Embedding(input_dim=vocab_size, output_dim=feature_num, input_length=sentence_len))\n",
    "lstm_model.add(LSTM(units=128))\n",
    "lstm_model.add(Dropout(0.4))\n",
    "lstm_model.add(Dense(units=80, activation='relu'))\n",
    "lstm_model.add(Dense(units=50, activation='relu'))\n",
    "lstm_model.add(Dense(units=1, activation='sigmoid'))\n",
    "\n",
    "# Compile the model\n",
    "lstm_model.compile(optimizer=Adam(learning_rate=0.001), loss='binary_crossentropy', metrics=['accuracy'])\n",
    "\n",
    "# Set up early stopping callback\n",
    "early_stopping = EarlyStopping(monitor='val_loss', patience=6, restore_best_weights=True)\n",
    "\n",
    "# Train the model with tuning options\n",
    "history = lstm_model.fit(X_train, y_train, validation_data=(X_val, y_val),\n",
    "                    epochs=15, batch_size=32, callbacks=[early_stopping])\n",
    "\n",
    "# Evaluate the model on the test data\n",
    "loss, accuracy = lstm_model.evaluate(X_test, y_test)\n",
    "\n",
    "# Print the loss and accuracy obtained\n",
    "print(\"Loss:\", loss)\n",
    "print(\"Accuracy:\", accuracy)"
   ]
  },
  {
   "cell_type": "code",
   "execution_count": 143,
   "metadata": {},
   "outputs": [
    {
     "name": "stdout",
     "output_type": "stream",
     "text": [
      "53/53 [==============================] - 7s 130ms/step\n"
     ]
    }
   ],
   "source": [
    "y_pred = lstm_model.predict(X_test)\n",
    "y_pred = (y_pred>0.5)"
   ]
  },
  {
   "cell_type": "code",
   "execution_count": 145,
   "metadata": {},
   "outputs": [
    {
     "name": "stdout",
     "output_type": "stream",
     "text": [
      "Test Score:97.25%\n",
      "              precision    recall  f1-score   support\n",
      "\n",
      "         0.0       0.97      0.98      0.97       834\n",
      "         1.0       0.98      0.97      0.97       840\n",
      "\n",
      "    accuracy                           0.97      1674\n",
      "   macro avg       0.97      0.97      0.97      1674\n",
      "weighted avg       0.97      0.97      0.97      1674\n",
      "\n"
     ]
    },
    {
     "data": {
      "text/plain": [
       "array([[814,  20],\n",
       "       [ 26, 814]])"
      ]
     },
     "execution_count": 145,
     "metadata": {},
     "output_type": "execute_result"
    },
    {
     "data": {
      "image/png": "[encoded data removed]",
      "text/plain": [
       "<Figure size 1200x800 with 2 Axes>"
      ]
     },
     "metadata": {},
     "output_type": "display_data"
    }
   ],
   "source": [
    "score=accuracy_score(y_test,y_pred)\n",
    "print(\"Test Score:{:.2f}%\".format(score*100))\n",
    "\n",
    "# Print the classification report\n",
    "print(classification_report(y_test, y_pred))\n",
    "\n",
    "cm = confusion_matrix(y_test,y_pred)\n",
    "fig = plt.figure(figsize=(12,8))\n",
    "sns.heatmap(\n",
    "    cm,\n",
    "    annot=True,\n",
    ")\n",
    "plt.title(\"Confusion Matrix\")\n",
    "cm"
   ]
  },
  {
   "cell_type": "code",
   "execution_count": 147,
   "metadata": {},
   "outputs": [
    {
     "name": "stdout",
     "output_type": "stream",
     "text": [
      "53/53 [==============================] - 8s 145ms/step\n",
      "ROC-AUC Score: 99.41%\n",
      "              precision    recall  f1-score   support\n",
      "\n",
      "         0.0       0.97      0.98      0.97       834\n",
      "         1.0       0.98      0.97      0.97       840\n",
      "\n",
      "    accuracy                           0.97      1674\n",
      "   macro avg       0.97      0.97      0.97      1674\n",
      "weighted avg       0.97      0.97      0.97      1674\n",
      "\n"
     ]
    },
    {
     "data": {
      "image/png": "[encoded data removed]",
      "text/plain": [
       "<Figure size 800x600 with 1 Axes>"
      ]
     },
     "metadata": {},
     "output_type": "display_data"
    }
   ],
   "source": [
    "\n",
    "# Calculate the predicted probabilities\n",
    "y_pred_proba = lstm_model.predict(X_test)\n",
    "\n",
    "# Calculate the ROC-AUC score\n",
    "roc_auc = roc_auc_score(y_test, y_pred_proba)\n",
    "\n",
    "print(\"ROC-AUC Score: {:.2f}%\".format(roc_auc * 100))\n",
    "\n",
    "# Convert probabilities to predicted labels\n",
    "y_pred = (y_pred_proba > 0.5).astype(int)\n",
    "\n",
    "# Print the classification report\n",
    "print(classification_report(y_test, y_pred))\n",
    "\n",
    "# Plot the ROC-AUC curve\n",
    "fpr, tpr, thresholds = roc_curve(y_test, y_pred_proba)\n",
    "\n",
    "plt.figure(figsize=(8, 6))\n",
    "plt.plot(fpr, tpr, label='ROC Curve (area = {:.2f})'.format(roc_auc))\n",
    "plt.plot([0, 1], [0, 1], 'k--')\n",
    "plt.xlim([0.0, 1.0])\n",
    "plt.ylim([0.0, 1.05])\n",
    "plt.xlabel('False Positive Rate')\n",
    "plt.ylabel('True Positive Rate')\n",
    "plt.title('Receiver Operating Characteristic')\n",
    "plt.legend(loc='lower right')\n",
    "plt.show()\n"
   ]
  },
  {
   "attachments": {},
   "cell_type": "markdown",
   "metadata": {},
   "source": [
    "### Observations:\n",
    "- The model achieves an impressive ROC-AUC score of 99.41%, indicating its high ability to distinguish between spam and non-spam emails.\n",
    "- The precision, recall, and F1-scores for both classes (spam and ham) are consistently high, demonstrating the model's effectiveness in accurately classifying emails.\n",
    "- The overall accuracy of the model is 97%, meaning that it correctly predicts the class for 97% of the test samples.\n",
    "- The macro-average and weighted-average F1-scores, which provide a balanced measure of the model's performance across both classes, are also at 97%.\n",
    "In summary, the model exhibits strong performance in classifying spam and ham emails, \n",
    "achieving high accuracy and well-balanced precision and recall values. \n",
    "The high ROC-AUC score further confirms its ability to effectively discriminate between the two classes."
   ]
  },
  {
   "cell_type": "code",
   "execution_count": 148,
   "metadata": {},
   "outputs": [
    {
     "name": "stderr",
     "output_type": "stream",
     "text": [
      "[nltk_data] Error loading stopwords: <urlopen error [SSL:\n",
      "[nltk_data]     CERTIFICATE_VERIFY_FAILED] certificate verify failed:\n",
      "[nltk_data]     unable to get local issuer certificate (_ssl.c:992)>\n"
     ]
    }
   ],
   "source": [
    "# Download stopwords if not already downloaded\n",
    "nltk.download('stopwords')\n",
    "\n",
    "# Function to classify a message as spam or not\n",
    "def classify_message(model, message):\n",
    "    # Tokenize the message into sentences\n",
    "    sentences = sent_tokenize(message)\n",
    "    \n",
    "    # Initialize an empty list to store processed sentences\n",
    "    processed_sentences = []\n",
    "    \n",
    "    # Iterate over each sentence\n",
    "    for sentence in sentences:\n",
    "        # Remove special characters and convert to lowercase\n",
    "        sentence = re.sub(\"[^a-zA-Z]\", \" \", sentence.lower())\n",
    "        \n",
    "        # Tokenize the sentence into words\n",
    "        words = word_tokenize(sentence)\n",
    "        \n",
    "        # Filter out stopwords and join the remaining words\n",
    "        filtered_words = [word for word in words if word not in stopwords.words('english')]\n",
    "        processed_sentence = \" \".join(filtered_words)\n",
    "        \n",
    "        # Append the processed sentence to the list\n",
    "        processed_sentences.append(processed_sentence)\n",
    "    \n",
    "    # Perform one-hot encoding on the processed sentences\n",
    "    one_hot_encodings = [one_hot(sentence, n=vocab_size) for sentence in processed_sentences]\n",
    "    \n",
    "    # Pad the sequences to have the same length\n",
    "    padded_sequences = pad_sequences(one_hot_encodings, maxlen=sentence_len, padding='pre')\n",
    "    \n",
    "    # Predict the label for the text using the model\n",
    "    predictions = model.predict(padded_sequences)\n",
    "    \n",
    "    # Classify each sentence and print the result\n",
    "    for i, prediction in enumerate(predictions):\n",
    "        if prediction > 0.5:\n",
    "            print(f\"Sentence {i+1}: It is a spam\")\n",
    "        else:\n",
    "            print(f\"Sentence {i+1}: It is not a spam\")\n"
   ]
  },
  {
   "cell_type": "code",
   "execution_count": 160,
   "metadata": {},
   "outputs": [],
   "source": [
    "message = \"New offer for gaming card in now online visit www.abc.com to get the offer\""
   ]
  },
  {
   "cell_type": "code",
   "execution_count": 161,
   "metadata": {},
   "outputs": [
    {
     "name": "stdout",
     "output_type": "stream",
     "text": [
      "1/1 [==============================] - 0s 40ms/step\n",
      "Sentence 1: It is a spam\n"
     ]
    }
   ],
   "source": [
    "classify_message(lstm_model,message)"
   ]
  },
  {
   "attachments": {},
   "cell_type": "markdown",
   "metadata": {},
   "source": [
    "Naive Bayes, SVM, and LSTM are three different types of classifiers, each with their own strengths and suitable use cases:\n",
    "\n",
    "- Naive Bayes Classifier: Naive Bayes is a probabilistic classifier that predicts the probability of a sample belonging to a specific class using Bayes' theorem. It assumes that features are conditionally independent given the class label. Naive Bayes classifiers are computationally efficient and work well with high-dimensional data and large datasets. They are commonly used in text classification, spam filtering, sentiment analysis, and document categorization.\n",
    "- SVM (Support Vector Machine): SVM is a binary classification algorithm that finds an optimal hyperplane in a high-dimensional space to separate classes. It can handle linear and non-linear decision boundaries using different kernel functions. SVM classifiers are effective for high-dimensional data and scenarios where the margin between classes is important. They are widely used in text classification, image recognition, and bioinformatics.\n",
    "- LSTM (Long Short-Term Memory): LSTM is a type of recurrent neural network (RNN) designed to capture long-term dependencies in sequential data. It is suitable for tasks involving sequences, such as natural language processing, speech recognition, and time series analysis. LSTMs can learn and remember patterns over long sequences, overcoming the limitations of traditional RNNs. They perform well in tasks like sentiment analysis, language translation, and text generation. However we tried to experiment how well would it be able to classify email using binary cross entropy classifier with 97% of accuracy on test data.\n",
    "\n",
    "Out of three MODELs we experimented, we can assume by the results that Navie Bayes Classifier works the best with 98.25% for the dataset and preprocessing techniques we have used."
   ]
  },
  {
   "attachments": {},
   "cell_type": "markdown",
   "metadata": {},
   "source": [
    "## REFRENCES\n",
    "1. Vidiyala, R. (2020) Detecting spam in emails, Medium. Available at: https://towardsdatascience.com/spam-detection-in-emails-de0398ea3b48 (Accessed: 06 July 2023). \n",
    "2. Ngawangchoeda (2021) Spam classifier using LSTM, Kaggle. Available at: https://www.kaggle.com/code/ngawangchoeda/spam-classifier-using-lstm (Accessed: 06 July 2023). \n",
    "3. Elhassouni (2021) Spam email classifier (98% accuracy), Kaggle. Available at: https://www.kaggle.com/code/elhassouni/spam-email-classifier-98-accuracy/notebook (Accessed: 06 July 2023). \n",
    "4. (No date) GitHub. Available at: https://github.com/ShresthaSudip/SMS_Spam_Detection_DNN_LSTM_BiLSTM/blob/master/NLP_SMS_Spam_Detection_FinalVersion_Downsampling_Dense_LSTM_BiLSTM.ipynb (Accessed: 07 July 2023). \n",
    "5. Wonduk (2023a) 📮EDA &amp; ML classification on Spam Email Dataset, Kaggle. Available at: https://www.kaggle.com/code/wonduk/eda-ml-classification-on-spam-email-dataset#2.EDA-on-features-(length-added) (Accessed: 07 July 2023). "
   ]
  }
 ],
 "metadata": {
  "kernelspec": {
   "display_name": "Python 3 (ipykernel)",
   "language": "python",
   "name": "python3"
  },
  "language_info": {
   "codemirror_mode": {
    "name": "ipython",
    "version": 3
   },
   "file_extension": ".py",
   "mimetype": "text/x-python",
   "name": "python",
   "nbconvert_exporter": "python",
   "pygments_lexer": "ipython3",
   "version": "3.9.16"
  }
 },
 "nbformat": 4,
 "nbformat_minor": 2
}
